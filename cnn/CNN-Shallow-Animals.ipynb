{
 "cells": [
  {
   "cell_type": "markdown",
   "metadata": {},
   "source": [
    "# =============================================================\n",
    "# Image classification using CNN  (Convolutional Neural Net)\n",
    "## This code uses CNN to classify 3000 images consisting of cats, dogs and pandas into correct labels. \n",
    "## Steps are as follows\n",
    "### 1. Preprocess images\n",
    "### 2. First divides input set into training set and test set\n",
    "### 3.  Define CNN model\n",
    "### 4. Train CNN model with training set\n",
    "### 5.   Test CNN model with test set\n",
    "### 6.  Plot evaluation metrics\n",
    "# ============================================================="
   ]
  },
  {
   "cell_type": "markdown",
   "metadata": {},
   "source": [
    "###         Declare namespaces for packages used in code"
   ]
  },
  {
   "cell_type": "code",
   "execution_count": 1,
   "metadata": {},
   "outputs": [
    {
     "name": "stderr",
     "output_type": "stream",
     "text": [
      "Using TensorFlow backend.\n",
      "C:\\Anaconda3\\envs\\p37-env\\lib\\site-packages\\tensorflow\\python\\framework\\dtypes.py:516: FutureWarning: Passing (type, 1) or '1type' as a synonym of type is deprecated; in a future version of numpy, it will be understood as (type, (1,)) / '(1,)type'.\n",
      "  _np_qint8 = np.dtype([(\"qint8\", np.int8, 1)])\n",
      "C:\\Anaconda3\\envs\\p37-env\\lib\\site-packages\\tensorflow\\python\\framework\\dtypes.py:517: FutureWarning: Passing (type, 1) or '1type' as a synonym of type is deprecated; in a future version of numpy, it will be understood as (type, (1,)) / '(1,)type'.\n",
      "  _np_quint8 = np.dtype([(\"quint8\", np.uint8, 1)])\n",
      "C:\\Anaconda3\\envs\\p37-env\\lib\\site-packages\\tensorflow\\python\\framework\\dtypes.py:518: FutureWarning: Passing (type, 1) or '1type' as a synonym of type is deprecated; in a future version of numpy, it will be understood as (type, (1,)) / '(1,)type'.\n",
      "  _np_qint16 = np.dtype([(\"qint16\", np.int16, 1)])\n",
      "C:\\Anaconda3\\envs\\p37-env\\lib\\site-packages\\tensorflow\\python\\framework\\dtypes.py:519: FutureWarning: Passing (type, 1) or '1type' as a synonym of type is deprecated; in a future version of numpy, it will be understood as (type, (1,)) / '(1,)type'.\n",
      "  _np_quint16 = np.dtype([(\"quint16\", np.uint16, 1)])\n",
      "C:\\Anaconda3\\envs\\p37-env\\lib\\site-packages\\tensorflow\\python\\framework\\dtypes.py:520: FutureWarning: Passing (type, 1) or '1type' as a synonym of type is deprecated; in a future version of numpy, it will be understood as (type, (1,)) / '(1,)type'.\n",
      "  _np_qint32 = np.dtype([(\"qint32\", np.int32, 1)])\n",
      "C:\\Anaconda3\\envs\\p37-env\\lib\\site-packages\\tensorflow\\python\\framework\\dtypes.py:525: FutureWarning: Passing (type, 1) or '1type' as a synonym of type is deprecated; in a future version of numpy, it will be understood as (type, (1,)) / '(1,)type'.\n",
      "  np_resource = np.dtype([(\"resource\", np.ubyte, 1)])\n",
      "C:\\Anaconda3\\envs\\p37-env\\lib\\site-packages\\tensorboard\\compat\\tensorflow_stub\\dtypes.py:541: FutureWarning: Passing (type, 1) or '1type' as a synonym of type is deprecated; in a future version of numpy, it will be understood as (type, (1,)) / '(1,)type'.\n",
      "  _np_qint8 = np.dtype([(\"qint8\", np.int8, 1)])\n",
      "C:\\Anaconda3\\envs\\p37-env\\lib\\site-packages\\tensorboard\\compat\\tensorflow_stub\\dtypes.py:542: FutureWarning: Passing (type, 1) or '1type' as a synonym of type is deprecated; in a future version of numpy, it will be understood as (type, (1,)) / '(1,)type'.\n",
      "  _np_quint8 = np.dtype([(\"quint8\", np.uint8, 1)])\n",
      "C:\\Anaconda3\\envs\\p37-env\\lib\\site-packages\\tensorboard\\compat\\tensorflow_stub\\dtypes.py:543: FutureWarning: Passing (type, 1) or '1type' as a synonym of type is deprecated; in a future version of numpy, it will be understood as (type, (1,)) / '(1,)type'.\n",
      "  _np_qint16 = np.dtype([(\"qint16\", np.int16, 1)])\n",
      "C:\\Anaconda3\\envs\\p37-env\\lib\\site-packages\\tensorboard\\compat\\tensorflow_stub\\dtypes.py:544: FutureWarning: Passing (type, 1) or '1type' as a synonym of type is deprecated; in a future version of numpy, it will be understood as (type, (1,)) / '(1,)type'.\n",
      "  _np_quint16 = np.dtype([(\"quint16\", np.uint16, 1)])\n",
      "C:\\Anaconda3\\envs\\p37-env\\lib\\site-packages\\tensorboard\\compat\\tensorflow_stub\\dtypes.py:545: FutureWarning: Passing (type, 1) or '1type' as a synonym of type is deprecated; in a future version of numpy, it will be understood as (type, (1,)) / '(1,)type'.\n",
      "  _np_qint32 = np.dtype([(\"qint32\", np.int32, 1)])\n",
      "C:\\Anaconda3\\envs\\p37-env\\lib\\site-packages\\tensorboard\\compat\\tensorflow_stub\\dtypes.py:550: FutureWarning: Passing (type, 1) or '1type' as a synonym of type is deprecated; in a future version of numpy, it will be understood as (type, (1,)) / '(1,)type'.\n",
      "  np_resource = np.dtype([(\"resource\", np.ubyte, 1)])\n"
     ]
    }
   ],
   "source": [
    "from sklearn.preprocessing import LabelBinarizer\n",
    "from sklearn.model_selection import train_test_split\n",
    "from sklearn.metrics import classification_report\n",
    "from greenheritagellc.preprocessing import Preprocessor\n",
    "from greenheritagellc.preprocessing import ImageToArrayPreprocessor\n",
    "from greenheritagellc.datasets import DatasetLoader\n",
    "from greenheritagellc.nn.conv import ShallowNet\n",
    "from keras.optimizers import SGD\n",
    "from imutils import paths\n",
    "import matplotlib.pyplot as plt\n",
    "import numpy as np"
   ]
  },
  {
   "cell_type": "markdown",
   "metadata": {},
   "source": [
    "### Define inputs"
   ]
  },
  {
   "cell_type": "code",
   "execution_count": 2,
   "metadata": {},
   "outputs": [],
   "source": [
    "dataset_path = \".\\\\datasets\\\\animals\""
   ]
  },
  {
   "cell_type": "markdown",
   "metadata": {},
   "source": [
    "### Grab the list of images that we'll be describing"
   ]
  },
  {
   "cell_type": "code",
   "execution_count": 3,
   "metadata": {},
   "outputs": [
    {
     "name": "stdout",
     "output_type": "stream",
     "text": [
      "[INFO] loading images...\n"
     ]
    }
   ],
   "source": [
    "print(\"[INFO] loading images...\")\n",
    "imagePaths = list(paths.list_images(dataset_path))\n"
   ]
  },
  {
   "cell_type": "markdown",
   "metadata": {},
   "source": [
    "### Initialize the image resize preprocessor and imageto numpyarray preprocessor\n"
   ]
  },
  {
   "cell_type": "code",
   "execution_count": 4,
   "metadata": {
    "scrolled": true
   },
   "outputs": [],
   "source": [
    "pp = Preprocessor(32, 32)\n",
    "imagetoarraypp = ImageToArrayPreprocessor()\n",
    "\n",
    "\n"
   ]
  },
  {
   "cell_type": "markdown",
   "metadata": {},
   "source": [
    "### Load the dataset from disk and reshape the data matrix"
   ]
  },
  {
   "cell_type": "code",
   "execution_count": 5,
   "metadata": {},
   "outputs": [
    {
     "name": "stdout",
     "output_type": "stream",
     "text": [
      "imagepath: .\\datasets\\animals\\cats\\cats_00001.jpg\n",
      "label before: ['.', 'datasets', 'animals', 'cats', 'cats_00001.jpg']\n",
      "label after: cats\n",
      "[INFO] processed 500/3000\n",
      "[INFO] processed 1000/3000\n",
      "[INFO] processed 1500/3000\n",
      "[INFO] processed 2000/3000\n",
      "[INFO] processed 2500/3000\n",
      "[INFO] processed 3000/3000\n",
      "(3000, 32, 32, 3)\n",
      "(3000,)\n"
     ]
    }
   ],
   "source": [
    "dl = DatasetLoader(preprocessors=[pp, imagetoarraypp])\n",
    "(data, labels) = dl.load(imagePaths, verbose=500)\n",
    "data = data.astype(\"float\") / 255.0\n",
    "print(data.shape)\n",
    "print(labels.shape)"
   ]
  },
  {
   "cell_type": "markdown",
   "metadata": {},
   "source": [
    "### Show some information on memory consumption of the images"
   ]
  },
  {
   "cell_type": "code",
   "execution_count": 6,
   "metadata": {},
   "outputs": [
    {
     "name": "stdout",
     "output_type": "stream",
     "text": [
      "[INFO] features matrix: 70.3MB\n"
     ]
    }
   ],
   "source": [
    "print(\"[INFO] features matrix: {:.1f}MB\".format(\n",
    "\tdata.nbytes / (1024 * 1024.0)))"
   ]
  },
  {
   "cell_type": "markdown",
   "metadata": {},
   "source": [
    "### Partition the data into training and testing splits using 75% of the data for training and the remaining 25% for testing"
   ]
  },
  {
   "cell_type": "code",
   "execution_count": 7,
   "metadata": {},
   "outputs": [
    {
     "name": "stdout",
     "output_type": "stream",
     "text": [
      "(2250, 32, 32, 3)\n",
      "(750, 32, 32, 3)\n",
      "(2250,)\n",
      "(750,)\n",
      "['panda' 'cats' 'dogs' 'dogs' 'cats' 'panda' 'cats' 'cats' 'panda']\n"
     ]
    }
   ],
   "source": [
    "(trainX, testX, trainY, testY) = train_test_split(data, labels, test_size=0.25, random_state=42)\n",
    "print(trainX.shape)\n",
    "print(testX.shape)\n",
    "print(trainY.shape)\n",
    "print(testY.shape)\n",
    "print(trainY[0:9])"
   ]
  },
  {
   "cell_type": "markdown",
   "metadata": {},
   "source": [
    "### convert the labels from integers to vectors"
   ]
  },
  {
   "cell_type": "code",
   "execution_count": 8,
   "metadata": {},
   "outputs": [
    {
     "name": "stdout",
     "output_type": "stream",
     "text": [
      "[[0 0 1]\n",
      " [1 0 0]\n",
      " [0 1 0]\n",
      " [0 1 0]\n",
      " [1 0 0]\n",
      " [0 0 1]\n",
      " [1 0 0]\n",
      " [1 0 0]\n",
      " [0 0 1]]\n",
      "(2250, 3)\n",
      "(750, 3)\n"
     ]
    }
   ],
   "source": [
    "trainY = LabelBinarizer().fit_transform(trainY)\n",
    "testY = LabelBinarizer().fit_transform(testY)\n",
    "print(trainY[0:9])\n",
    "print(trainY.shape)\n",
    "print(testY.shape)"
   ]
  },
  {
   "cell_type": "markdown",
   "metadata": {},
   "source": [
    "###  initialize the optimizer and model"
   ]
  },
  {
   "cell_type": "code",
   "execution_count": 9,
   "metadata": {},
   "outputs": [
    {
     "name": "stdout",
     "output_type": "stream",
     "text": [
      "[INFO] compiling model...\n"
     ]
    },
    {
     "name": "stderr",
     "output_type": "stream",
     "text": [
      "WARNING: Logging before flag parsing goes to stderr.\n",
      "W0829 21:02:15.163295 15704 deprecation_wrapper.py:119] From C:\\Anaconda3\\envs\\p37-env\\lib\\site-packages\\keras\\backend\\tensorflow_backend.py:66: The name tf.get_default_graph is deprecated. Please use tf.compat.v1.get_default_graph instead.\n",
      "\n",
      "W0829 21:02:15.186226 15704 deprecation_wrapper.py:119] From C:\\Anaconda3\\envs\\p37-env\\lib\\site-packages\\keras\\backend\\tensorflow_backend.py:541: The name tf.placeholder is deprecated. Please use tf.compat.v1.placeholder instead.\n",
      "\n",
      "W0829 21:02:15.220135 15704 deprecation_wrapper.py:119] From C:\\Anaconda3\\envs\\p37-env\\lib\\site-packages\\keras\\backend\\tensorflow_backend.py:4432: The name tf.random_uniform is deprecated. Please use tf.random.uniform instead.\n",
      "\n",
      "W0829 21:02:15.611761 15704 deprecation_wrapper.py:119] From C:\\Anaconda3\\envs\\p37-env\\lib\\site-packages\\keras\\optimizers.py:793: The name tf.train.Optimizer is deprecated. Please use tf.compat.v1.train.Optimizer instead.\n",
      "\n",
      "W0829 21:02:15.678112 15704 deprecation_wrapper.py:119] From C:\\Anaconda3\\envs\\p37-env\\lib\\site-packages\\keras\\backend\\tensorflow_backend.py:3576: The name tf.log is deprecated. Please use tf.math.log instead.\n",
      "\n"
     ]
    }
   ],
   "source": [
    "\n",
    "print(\"[INFO] compiling model...\")\n",
    "opt = SGD(lr=0.005)\n",
    "model = ShallowNet.build(width=32, height=32, depth=3, classes=3)\n",
    "model.compile(loss=\"categorical_crossentropy\", optimizer=opt,\n",
    "\tmetrics=[\"accuracy\"])"
   ]
  },
  {
   "cell_type": "markdown",
   "metadata": {},
   "source": [
    "### train the network"
   ]
  },
  {
   "cell_type": "code",
   "execution_count": 10,
   "metadata": {},
   "outputs": [
    {
     "name": "stdout",
     "output_type": "stream",
     "text": [
      "[INFO] training network...\n"
     ]
    },
    {
     "name": "stderr",
     "output_type": "stream",
     "text": [
      "W0829 21:02:16.637369 15704 deprecation.py:323] From C:\\Anaconda3\\envs\\p37-env\\lib\\site-packages\\tensorflow\\python\\ops\\math_grad.py:1250: add_dispatch_support.<locals>.wrapper (from tensorflow.python.ops.array_ops) is deprecated and will be removed in a future version.\n",
      "Instructions for updating:\n",
      "Use tf.where in 2.0, which has the same broadcast rule as np.where\n",
      "W0829 21:02:17.371463 15704 deprecation_wrapper.py:119] From C:\\Anaconda3\\envs\\p37-env\\lib\\site-packages\\keras\\backend\\tensorflow_backend.py:1033: The name tf.assign_add is deprecated. Please use tf.compat.v1.assign_add instead.\n",
      "\n"
     ]
    },
    {
     "name": "stdout",
     "output_type": "stream",
     "text": [
      "Train on 2250 samples, validate on 750 samples\n",
      "Epoch 1/100\n",
      "2250/2250 [==============================] - 9s 4ms/step - loss: 1.0398 - acc: 0.4529 - val_loss: 0.9563 - val_acc: 0.5147 5s - loss: 1.0921 - acc: 0.38 - ETA: 5s - - ETA: 1s - loss: 1.0475 -\n",
      "Epoch 2/100\n",
      "2250/2250 [==============================] - 4s 2ms/step - loss: 0.9830 - acc: 0.5271 - val_loss: 1.4606 - val_acc: 0.4080\n",
      "Epoch 3/100\n",
      "2250/2250 [==============================] - 4s 2ms/step - loss: 1.1089 - acc: 0.5120 - val_loss: 2.6407 - val_acc: 0.3200\n",
      "Epoch 4/100\n",
      "2250/2250 [==============================] - 5s 2ms/step - loss: 1.1859 - acc: 0.5231 - val_loss: 0.8907 - val_acc: 0.5520\n",
      "Epoch 5/100\n",
      "2250/2250 [==============================] - 3s 1ms/step - loss: 1.1333 - acc: 0.5271 - val_loss: 1.1827 - val_acc: 0.5507\n",
      "Epoch 6/100\n",
      "2250/2250 [==============================] - 3s 1ms/step - loss: 3.7242 - acc: 0.4498 - val_loss: 4.5606 - val_acc: 0.3587\n",
      "Epoch 7/100\n",
      "2250/2250 [==============================] - 3s 1ms/step - loss: 6.3844 - acc: 0.4560 - val_loss: 10.3229 - val_acc: 0.3507\n",
      "Epoch 8/100\n",
      "2250/2250 [==============================] - 3s 1ms/step - loss: 5.9939 - acc: 0.4787 - val_loss: 9.3184 - val_acc: 0.3653\n",
      "Epoch 9/100\n",
      "2250/2250 [==============================] - 2s 1ms/step - loss: 6.6643 - acc: 0.4849 - val_loss: 10.2069 - val_acc: 0.3360\n",
      "Epoch 10/100\n",
      "2250/2250 [==============================] - 2s 1ms/step - loss: 7.1040 - acc: 0.4951 - val_loss: 8.3773 - val_acc: 0.4373\n",
      "Epoch 11/100\n",
      "2250/2250 [==============================] - 2s 777us/step - loss: 7.0129 - acc: 0.4964 - val_loss: 9.3880 - val_acc: 0.3907\n",
      "Epoch 12/100\n",
      "2250/2250 [==============================] - 2s 869us/step - loss: 7.0998 - acc: 0.4973 - val_loss: 6.4017 - val_acc: 0.5360\n",
      "Epoch 13/100\n",
      "2250/2250 [==============================] - 2s 982us/step - loss: 7.3262 - acc: 0.4813 - val_loss: 6.5053 - val_acc: 0.5373\n",
      "Epoch 14/100\n",
      "2250/2250 [==============================] - 2s 915us/step - loss: 7.1038 - acc: 0.5049 - val_loss: 7.7541 - val_acc: 0.4400\n",
      "Epoch 15/100\n",
      "2250/2250 [==============================] - 2s 833us/step - loss: 7.5734 - acc: 0.4809 - val_loss: 8.6841 - val_acc: 0.4093\n",
      "Epoch 16/100\n",
      "2250/2250 [==============================] - 2s 822us/step - loss: 7.1362 - acc: 0.5147 - val_loss: 6.6806 - val_acc: 0.5400\n",
      "Epoch 17/100\n",
      "2250/2250 [==============================] - 2s 811us/step - loss: 7.2092 - acc: 0.5098 - val_loss: 6.8893 - val_acc: 0.5253\n",
      "Epoch 18/100\n",
      "2250/2250 [==============================] - 2s 705us/step - loss: 7.1490 - acc: 0.5169 - val_loss: 7.0234 - val_acc: 0.5147\n",
      "Epoch 19/100\n",
      "2250/2250 [==============================] - 1s 630us/step - loss: 7.2924 - acc: 0.5040 - val_loss: 6.9504 - val_acc: 0.5320\n",
      "Epoch 20/100\n",
      "2250/2250 [==============================] - 2s 712us/step - loss: 7.1066 - acc: 0.5173 - val_loss: 6.9144 - val_acc: 0.5400\n",
      "Epoch 21/100\n",
      "2250/2250 [==============================] - 2s 717us/step - loss: 7.3529 - acc: 0.5049 - val_loss: 7.2532 - val_acc: 0.5107\n",
      "Epoch 22/100\n",
      "2250/2250 [==============================] - 2s 803us/step - loss: 7.3812 - acc: 0.5062 - val_loss: 6.7649 - val_acc: 0.5547\n",
      "Epoch 23/100\n",
      "2250/2250 [==============================] - 2s 822us/step - loss: 7.1248 - acc: 0.5258 - val_loss: 6.8158 - val_acc: 0.5467\n",
      "Epoch 24/100\n",
      "2250/2250 [==============================] - 2s 741us/step - loss: 7.4685 - acc: 0.5044 - val_loss: 7.4319 - val_acc: 0.5213\n",
      "Epoch 25/100\n",
      "2250/2250 [==============================] - 2s 743us/step - loss: 7.2475 - acc: 0.5213 - val_loss: 7.5594 - val_acc: 0.5093\n",
      "Epoch 26/100\n",
      "2250/2250 [==============================] - 2s 748us/step - loss: 7.2437 - acc: 0.5302 - val_loss: 7.0703 - val_acc: 0.5333\n",
      "Epoch 27/100\n",
      "2250/2250 [==============================] - 2s 682us/step - loss: 7.2235 - acc: 0.5258 - val_loss: 6.8303 - val_acc: 0.5453\n",
      "Epoch 28/100\n",
      "2250/2250 [==============================] - 1s 632us/step - loss: 7.2198 - acc: 0.5280 - val_loss: 7.9403 - val_acc: 0.4800\n",
      "Epoch 29/100\n",
      "2250/2250 [==============================] - 1s 645us/step - loss: 7.5266 - acc: 0.5067 - val_loss: 6.9863 - val_acc: 0.5400\n",
      "Epoch 30/100\n",
      "2250/2250 [==============================] - 2s 684us/step - loss: 7.3912 - acc: 0.5178 - val_loss: 9.6578 - val_acc: 0.3787\n",
      "Epoch 31/100\n",
      "2250/2250 [==============================] - 2s 678us/step - loss: 7.3956 - acc: 0.5191 - val_loss: 9.9699 - val_acc: 0.3640\n",
      "Epoch 32/100\n",
      "2250/2250 [==============================] - 2s 758us/step - loss: 7.3241 - acc: 0.5182 - val_loss: 9.1271 - val_acc: 0.4093\n",
      "Epoch 33/100\n",
      "2250/2250 [==============================] - 2s 728us/step - loss: 7.3763 - acc: 0.5191 - val_loss: 7.6491 - val_acc: 0.4973\n",
      "Epoch 34/100\n",
      "2250/2250 [==============================] - 2s 692us/step - loss: 7.5429 - acc: 0.5156 - val_loss: 8.5904 - val_acc: 0.4333\n",
      "Epoch 35/100\n",
      "2250/2250 [==============================] - 2s 790us/step - loss: 7.2460 - acc: 0.5258 - val_loss: 7.2917 - val_acc: 0.5267\n",
      "Epoch 36/100\n",
      "2250/2250 [==============================] - 2s 787us/step - loss: 7.1650 - acc: 0.5298 - val_loss: 8.5074 - val_acc: 0.4413\n",
      "Epoch 37/100\n",
      "2250/2250 [==============================] - 1s 647us/step - loss: 7.2094 - acc: 0.5280 - val_loss: 7.0878 - val_acc: 0.5373\n",
      "Epoch 38/100\n",
      "2250/2250 [==============================] - 1s 607us/step - loss: 7.1358 - acc: 0.5356 - val_loss: 9.0494 - val_acc: 0.4160\n",
      "Epoch 39/100\n",
      "2250/2250 [==============================] - 1s 630us/step - loss: 7.2752 - acc: 0.5289 - val_loss: 7.3755 - val_acc: 0.5307\n",
      "Epoch 40/100\n",
      "2250/2250 [==============================] - 2s 705us/step - loss: 7.2971 - acc: 0.5231 - val_loss: 7.1411 - val_acc: 0.5400\n",
      "Epoch 41/100\n",
      "2250/2250 [==============================] - 2s 683us/step - loss: 7.0257 - acc: 0.5476 - val_loss: 7.1582 - val_acc: 0.5333\n",
      "Epoch 42/100\n",
      "2250/2250 [==============================] - 2s 756us/step - loss: 7.2142 - acc: 0.5338 - val_loss: 7.1488 - val_acc: 0.5413\n",
      "Epoch 43/100\n",
      "2250/2250 [==============================] - 2s 672us/step - loss: 7.2068 - acc: 0.5338 - val_loss: 9.1055 - val_acc: 0.4147\n",
      "Epoch 44/100\n",
      "2250/2250 [==============================] - 1s 624us/step - loss: 7.5120 - acc: 0.5138 - val_loss: 7.3002 - val_acc: 0.5160\n",
      "Epoch 45/100\n",
      "2250/2250 [==============================] - 1s 633us/step - loss: 7.3053 - acc: 0.5236 - val_loss: 7.0818 - val_acc: 0.5400\n",
      "Epoch 46/100\n",
      "2250/2250 [==============================] - 2s 690us/step - loss: 7.4431 - acc: 0.5227 - val_loss: 7.1055 - val_acc: 0.5387\n",
      "Epoch 47/100\n",
      "2250/2250 [==============================] - 1s 651us/step - loss: 7.3121 - acc: 0.5289 - val_loss: 7.2909 - val_acc: 0.5280\n",
      "Epoch 48/100\n",
      "2250/2250 [==============================] - 1s 577us/step - loss: 7.1699 - acc: 0.5360 - val_loss: 9.6710 - val_acc: 0.3853\n",
      "Epoch 49/100\n",
      "2250/2250 [==============================] - 1s 579us/step - loss: 7.4300 - acc: 0.5236 - val_loss: 7.7626 - val_acc: 0.5053\n",
      "Epoch 50/100\n",
      "2250/2250 [==============================] - 1s 577us/step - loss: 7.2019 - acc: 0.5427 - val_loss: 8.2370 - val_acc: 0.4747\n",
      "Epoch 51/100\n",
      "2250/2250 [==============================] - 1s 655us/step - loss: 7.2114 - acc: 0.5422 - val_loss: 7.3784 - val_acc: 0.5240\n",
      "Epoch 52/100\n",
      "2250/2250 [==============================] - 2s 690us/step - loss: 7.2191 - acc: 0.5396 - val_loss: 7.2749 - val_acc: 0.5293\n",
      "Epoch 53/100\n",
      "2250/2250 [==============================] - 2s 700us/step - loss: 7.7142 - acc: 0.5080 - val_loss: 8.1339 - val_acc: 0.4840\n",
      "Epoch 54/100\n",
      "2250/2250 [==============================] - 1s 633us/step - loss: 7.3509 - acc: 0.5342 - val_loss: 7.0815 - val_acc: 0.5413\n",
      "Epoch 55/100\n",
      "2250/2250 [==============================] - 1s 614us/step - loss: 7.3888 - acc: 0.5253 - val_loss: 7.1842 - val_acc: 0.5400\n",
      "Epoch 56/100\n",
      "2250/2250 [==============================] - 1s 631us/step - loss: 7.2202 - acc: 0.5369 - val_loss: 8.0659 - val_acc: 0.4827\n",
      "Epoch 57/100\n",
      "2250/2250 [==============================] - 1s 607us/step - loss: 7.4128 - acc: 0.5289 - val_loss: 7.1349 - val_acc: 0.5413\n",
      "Epoch 58/100\n",
      "2250/2250 [==============================] - 1s 588us/step - loss: 7.2026 - acc: 0.5404 - val_loss: 7.3812 - val_acc: 0.5293\n",
      "Epoch 59/100\n",
      "2250/2250 [==============================] - 1s 570us/step - loss: 7.1418 - acc: 0.5418 - val_loss: 8.0507 - val_acc: 0.4893\n"
     ]
    },
    {
     "name": "stdout",
     "output_type": "stream",
     "text": [
      "Epoch 60/100\n",
      "2250/2250 [==============================] - 1s 536us/step - loss: 7.3436 - acc: 0.5311 - val_loss: 8.2107 - val_acc: 0.4773\n",
      "Epoch 61/100\n",
      "2250/2250 [==============================] - 1s 527us/step - loss: 7.2899 - acc: 0.5302 - val_loss: 7.2374 - val_acc: 0.5347\n",
      "Epoch 62/100\n",
      "2250/2250 [==============================] - 1s 532us/step - loss: 7.4384 - acc: 0.5262 - val_loss: 7.0903 - val_acc: 0.5480\n",
      "Epoch 63/100\n",
      "2250/2250 [==============================] - 1s 586us/step - loss: 7.2169 - acc: 0.5431 - val_loss: 7.2449 - val_acc: 0.5400\n",
      "Epoch 64/100\n",
      "2250/2250 [==============================] - 1s 599us/step - loss: 7.1586 - acc: 0.5427 - val_loss: 7.4798 - val_acc: 0.5200\n",
      "Epoch 65/100\n",
      "2250/2250 [==============================] - 2s 672us/step - loss: 7.2802 - acc: 0.5324 - val_loss: 8.1151 - val_acc: 0.4827\n",
      "Epoch 66/100\n",
      "2250/2250 [==============================] - 1s 638us/step - loss: 7.1219 - acc: 0.5493 - val_loss: 7.2188 - val_acc: 0.5400\n",
      "Epoch 67/100\n",
      "2250/2250 [==============================] - 1s 601us/step - loss: 7.3087 - acc: 0.5351 - val_loss: 7.4038 - val_acc: 0.5280\n",
      "Epoch 68/100\n",
      "2250/2250 [==============================] - 1s 594us/step - loss: 7.2766 - acc: 0.5382 - val_loss: 10.5137 - val_acc: 0.3440\n",
      "Epoch 69/100\n",
      "2250/2250 [==============================] - 1s 591us/step - loss: 7.8256 - acc: 0.5044 - val_loss: 8.6144 - val_acc: 0.4573\n",
      "Epoch 70/100\n",
      "2250/2250 [==============================] - 1s 589us/step - loss: 7.5039 - acc: 0.5258 - val_loss: 7.2534 - val_acc: 0.5373\n",
      "Epoch 71/100\n",
      "2250/2250 [==============================] - 1s 544us/step - loss: 7.0879 - acc: 0.5502 - val_loss: 7.1937 - val_acc: 0.5400\n",
      "Epoch 72/100\n",
      "2250/2250 [==============================] - 1s 549us/step - loss: 7.1532 - acc: 0.5467 - val_loss: 10.2759 - val_acc: 0.3587\n",
      "Epoch 73/100\n",
      "2250/2250 [==============================] - 1s 578us/step - loss: 7.6487 - acc: 0.5178 - val_loss: 7.8543 - val_acc: 0.5013\n",
      "Epoch 74/100\n",
      "2250/2250 [==============================] - 1s 589us/step - loss: 7.2682 - acc: 0.5396 - val_loss: 7.4690 - val_acc: 0.5293\n",
      "Epoch 75/100\n",
      "2250/2250 [==============================] - 1s 605us/step - loss: 7.2672 - acc: 0.5378 - val_loss: 7.3405 - val_acc: 0.5360\n",
      "Epoch 76/100\n",
      "2250/2250 [==============================] - 1s 622us/step - loss: 7.1368 - acc: 0.5462 - val_loss: 7.4193 - val_acc: 0.5253\n",
      "Epoch 77/100\n",
      "2250/2250 [==============================] - 1s 659us/step - loss: 7.0931 - acc: 0.5520 - val_loss: 7.4051 - val_acc: 0.5280\n",
      "Epoch 78/100\n",
      "2250/2250 [==============================] - ETA: 0s - loss: 7.2562 - acc: 0.538 - 1s 625us/step - loss: 7.2425 - acc: 0.5400 - val_loss: 8.3879 - val_acc: 0.4747\n",
      "Epoch 79/100\n",
      "2250/2250 [==============================] - 2s 676us/step - loss: 7.1409 - acc: 0.5480 - val_loss: 7.5484 - val_acc: 0.5227\n",
      "Epoch 80/100\n",
      "2250/2250 [==============================] - 1s 633us/step - loss: 7.4487 - acc: 0.5293 - val_loss: 7.3761 - val_acc: 0.5307\n",
      "Epoch 81/100\n",
      "2250/2250 [==============================] - 1s 604us/step - loss: 7.1736 - acc: 0.5449 - val_loss: 7.1257 - val_acc: 0.5427\n",
      "Epoch 82/100\n",
      "2250/2250 [==============================] - 1s 577us/step - loss: 7.2610 - acc: 0.5404 - val_loss: 7.2399 - val_acc: 0.5427\n",
      "Epoch 83/100\n",
      "2250/2250 [==============================] - 1s 573us/step - loss: 7.2498 - acc: 0.5404 - val_loss: 8.3753 - val_acc: 0.4693\n",
      "Epoch 84/100\n",
      "2250/2250 [==============================] - 1s 563us/step - loss: 7.3348 - acc: 0.5373 - val_loss: 7.3374 - val_acc: 0.5347\n",
      "Epoch 85/100\n",
      "2250/2250 [==============================] - 1s 560us/step - loss: 7.1655 - acc: 0.5440 - val_loss: 10.7868 - val_acc: 0.3293\n",
      "Epoch 86/100\n",
      "2250/2250 [==============================] - 1s 605us/step - loss: 7.6487 - acc: 0.5164 - val_loss: 7.1913 - val_acc: 0.5440\n",
      "Epoch 87/100\n",
      "2250/2250 [==============================] - 1s 635us/step - loss: 7.0871 - acc: 0.5533 - val_loss: 7.1263 - val_acc: 0.5480\n",
      "Epoch 88/100\n",
      "2250/2250 [==============================] - 1s 646us/step - loss: 7.2044 - acc: 0.5440 - val_loss: 7.9817 - val_acc: 0.5000\n",
      "Epoch 89/100\n",
      "2250/2250 [==============================] - 2s 703us/step - loss: 7.1832 - acc: 0.5444 - val_loss: 7.4397 - val_acc: 0.5333\n",
      "Epoch 90/100\n",
      "2250/2250 [==============================] - 1s 638us/step - loss: 7.1801 - acc: 0.5440 - val_loss: 7.1284 - val_acc: 0.5507\n",
      "Epoch 91/100\n",
      "2250/2250 [==============================] - 1s 615us/step - loss: 7.1822 - acc: 0.5471 - val_loss: 7.1982 - val_acc: 0.5427\n",
      "Epoch 92/100\n",
      "2250/2250 [==============================] - 1s 613us/step - loss: 7.0825 - acc: 0.5524 - val_loss: 7.1699 - val_acc: 0.5453\n",
      "Epoch 93/100\n",
      "2250/2250 [==============================] - 1s 616us/step - loss: 7.3788 - acc: 0.5342 - val_loss: 7.2846 - val_acc: 0.5413\n",
      "Epoch 94/100\n",
      "2250/2250 [==============================] - 1s 586us/step - loss: 7.0742 - acc: 0.5511 - val_loss: 7.3670 - val_acc: 0.5333\n",
      "Epoch 95/100\n",
      "2250/2250 [==============================] - 1s 557us/step - loss: 7.0448 - acc: 0.5507 - val_loss: 8.1434 - val_acc: 0.4853\n",
      "Epoch 96/100\n",
      "2250/2250 [==============================] - 1s 581us/step - loss: 7.1197 - acc: 0.5511 - val_loss: 8.4287 - val_acc: 0.4653\n",
      "Epoch 97/100\n",
      "2250/2250 [==============================] - 1s 588us/step - loss: 7.4163 - acc: 0.5311 - val_loss: 7.3017 - val_acc: 0.5413\n",
      "Epoch 98/100\n",
      "2250/2250 [==============================] - 1s 624us/step - loss: 7.1191 - acc: 0.5511 - val_loss: 9.0362 - val_acc: 0.4307\n",
      "Epoch 99/100\n",
      "2250/2250 [==============================] - 1s 639us/step - loss: 7.2767 - acc: 0.5418 - val_loss: 7.5301 - val_acc: 0.5280\n",
      "Epoch 100/100\n",
      "2250/2250 [==============================] - 2s 704us/step - loss: 7.3782 - acc: 0.5356 - val_loss: 8.1926 - val_acc: 0.4813\n"
     ]
    }
   ],
   "source": [
    "\n",
    "print(\"[INFO] training network...\")\n",
    "H = model.fit(trainX, trainY, validation_data=(testX, testY),\n",
    "\tbatch_size=32, epochs=100, verbose=1)"
   ]
  },
  {
   "cell_type": "markdown",
   "metadata": {},
   "source": [
    "### evaluate the network"
   ]
  },
  {
   "cell_type": "code",
   "execution_count": 11,
   "metadata": {},
   "outputs": [
    {
     "name": "stdout",
     "output_type": "stream",
     "text": [
      "[INFO] evaluating network...\n",
      "              precision    recall  f1-score   support\n",
      "\n",
      "         cat       0.47      0.55      0.51       262\n",
      "         dog       0.00      0.00      0.00       249\n",
      "       panda       0.49      0.91      0.64       239\n",
      "\n",
      "    accuracy                           0.48       750\n",
      "   macro avg       0.32      0.49      0.38       750\n",
      "weighted avg       0.32      0.48      0.38       750\n",
      "\n"
     ]
    },
    {
     "name": "stderr",
     "output_type": "stream",
     "text": [
      "C:\\Anaconda3\\envs\\p37-env\\lib\\site-packages\\sklearn\\metrics\\classification.py:1437: UndefinedMetricWarning: Precision and F-score are ill-defined and being set to 0.0 in labels with no predicted samples.\n",
      "  'precision', 'predicted', average, warn_for)\n"
     ]
    }
   ],
   "source": [
    "\n",
    "# evaluate the network\n",
    "print(\"[INFO] evaluating network...\")\n",
    "predictions = model.predict(testX, batch_size=32)\n",
    "print(classification_report(testY.argmax(axis=1),\n",
    "\tpredictions.argmax(axis=1),\n",
    "\ttarget_names=[\"cat\", \"dog\", \"panda\"]))"
   ]
  },
  {
   "cell_type": "markdown",
   "metadata": {},
   "source": [
    "### plot the training loss and accuracy"
   ]
  },
  {
   "cell_type": "code",
   "execution_count": 12,
   "metadata": {},
   "outputs": [
    {
     "data": {
      "image/png": "[encoded data removed]",
      "text/plain": [
       "<Figure size 432x288 with 1 Axes>"
      ]
     },
     "metadata": {},
     "output_type": "display_data"
    }
   ],
   "source": [
    "\n",
    "plt.style.use(\"ggplot\")\n",
    "plt.figure()\n",
    "plt.plot(np.arange(0, 100), H.history[\"loss\"], label=\"train_loss\")\n",
    "plt.plot(np.arange(0, 100), H.history[\"val_loss\"], label=\"val_loss\")\n",
    "plt.plot(np.arange(0, 100), H.history[\"acc\"], label=\"train_acc\")\n",
    "plt.plot(np.arange(0, 100), H.history[\"val_acc\"], label=\"val_acc\")\n",
    "plt.title(\"Training Loss and Accuracy\")\n",
    "plt.xlabel(\"Epoch #\")\n",
    "plt.ylabel(\"Loss/Accuracy\")\n",
    "plt.legend()\n",
    "plt.show()"
   ]
  },
  {
   "cell_type": "code",
   "execution_count": null,
   "metadata": {},
   "outputs": [],
   "source": []
  }
 ],
 "metadata": {
  "kernelspec": {
   "display_name": "Python 3",
   "language": "python",
   "name": "python3"
  },
  "language_info": {
   "codemirror_mode": {
    "name": "ipython",
    "version": 3
   },
   "file_extension": ".py",
   "mimetype": "text/x-python",
   "name": "python",
   "nbconvert_exporter": "python",
   "pygments_lexer": "ipython3",
   "version": "3.7.3"
  }
 },
 "nbformat": 4,
 "nbformat_minor": 2
}
