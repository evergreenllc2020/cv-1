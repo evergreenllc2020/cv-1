{
 "cells": [
  {
   "cell_type": "markdown",
   "metadata": {},
   "source": [
    "# =============================================================\n",
    "# Image classification using CNN  (Convolutional Neural Net)\n",
    "## This code uses CNN to classify 3000 images consisting of cats, dogs and pandas into correct labels. \n",
    "## Steps are as follows\n",
    "### 1. Preprocess images\n",
    "### 2. First divides input set into training set and test set\n",
    "### 3.  Define CNN model\n",
    "### 4. Train CNN model with training set\n",
    "### 5.   Test CNN model with test set\n",
    "### 6.  Plot evaluation metrics\n",
    "# ============================================================="
   ]
  },
  {
   "cell_type": "markdown",
   "metadata": {},
   "source": [
    "###         Declare namespaces for packages used in code"
   ]
  },
  {
   "cell_type": "code",
   "execution_count": 1,
   "metadata": {},
   "outputs": [
    {
     "name": "stderr",
     "output_type": "stream",
     "text": [
      "Using TensorFlow backend.\n",
      "C:\\Anaconda3\\envs\\p37-env\\lib\\site-packages\\tensorflow\\python\\framework\\dtypes.py:516: FutureWarning: Passing (type, 1) or '1type' as a synonym of type is deprecated; in a future version of numpy, it will be understood as (type, (1,)) / '(1,)type'.\n",
      "  _np_qint8 = np.dtype([(\"qint8\", np.int8, 1)])\n",
      "C:\\Anaconda3\\envs\\p37-env\\lib\\site-packages\\tensorflow\\python\\framework\\dtypes.py:517: FutureWarning: Passing (type, 1) or '1type' as a synonym of type is deprecated; in a future version of numpy, it will be understood as (type, (1,)) / '(1,)type'.\n",
      "  _np_quint8 = np.dtype([(\"quint8\", np.uint8, 1)])\n",
      "C:\\Anaconda3\\envs\\p37-env\\lib\\site-packages\\tensorflow\\python\\framework\\dtypes.py:518: FutureWarning: Passing (type, 1) or '1type' as a synonym of type is deprecated; in a future version of numpy, it will be understood as (type, (1,)) / '(1,)type'.\n",
      "  _np_qint16 = np.dtype([(\"qint16\", np.int16, 1)])\n",
      "C:\\Anaconda3\\envs\\p37-env\\lib\\site-packages\\tensorflow\\python\\framework\\dtypes.py:519: FutureWarning: Passing (type, 1) or '1type' as a synonym of type is deprecated; in a future version of numpy, it will be understood as (type, (1,)) / '(1,)type'.\n",
      "  _np_quint16 = np.dtype([(\"quint16\", np.uint16, 1)])\n",
      "C:\\Anaconda3\\envs\\p37-env\\lib\\site-packages\\tensorflow\\python\\framework\\dtypes.py:520: FutureWarning: Passing (type, 1) or '1type' as a synonym of type is deprecated; in a future version of numpy, it will be understood as (type, (1,)) / '(1,)type'.\n",
      "  _np_qint32 = np.dtype([(\"qint32\", np.int32, 1)])\n",
      "C:\\Anaconda3\\envs\\p37-env\\lib\\site-packages\\tensorflow\\python\\framework\\dtypes.py:525: FutureWarning: Passing (type, 1) or '1type' as a synonym of type is deprecated; in a future version of numpy, it will be understood as (type, (1,)) / '(1,)type'.\n",
      "  np_resource = np.dtype([(\"resource\", np.ubyte, 1)])\n",
      "C:\\Anaconda3\\envs\\p37-env\\lib\\site-packages\\tensorboard\\compat\\tensorflow_stub\\dtypes.py:541: FutureWarning: Passing (type, 1) or '1type' as a synonym of type is deprecated; in a future version of numpy, it will be understood as (type, (1,)) / '(1,)type'.\n",
      "  _np_qint8 = np.dtype([(\"qint8\", np.int8, 1)])\n",
      "C:\\Anaconda3\\envs\\p37-env\\lib\\site-packages\\tensorboard\\compat\\tensorflow_stub\\dtypes.py:542: FutureWarning: Passing (type, 1) or '1type' as a synonym of type is deprecated; in a future version of numpy, it will be understood as (type, (1,)) / '(1,)type'.\n",
      "  _np_quint8 = np.dtype([(\"quint8\", np.uint8, 1)])\n",
      "C:\\Anaconda3\\envs\\p37-env\\lib\\site-packages\\tensorboard\\compat\\tensorflow_stub\\dtypes.py:543: FutureWarning: Passing (type, 1) or '1type' as a synonym of type is deprecated; in a future version of numpy, it will be understood as (type, (1,)) / '(1,)type'.\n",
      "  _np_qint16 = np.dtype([(\"qint16\", np.int16, 1)])\n",
      "C:\\Anaconda3\\envs\\p37-env\\lib\\site-packages\\tensorboard\\compat\\tensorflow_stub\\dtypes.py:544: FutureWarning: Passing (type, 1) or '1type' as a synonym of type is deprecated; in a future version of numpy, it will be understood as (type, (1,)) / '(1,)type'.\n",
      "  _np_quint16 = np.dtype([(\"quint16\", np.uint16, 1)])\n",
      "C:\\Anaconda3\\envs\\p37-env\\lib\\site-packages\\tensorboard\\compat\\tensorflow_stub\\dtypes.py:545: FutureWarning: Passing (type, 1) or '1type' as a synonym of type is deprecated; in a future version of numpy, it will be understood as (type, (1,)) / '(1,)type'.\n",
      "  _np_qint32 = np.dtype([(\"qint32\", np.int32, 1)])\n",
      "C:\\Anaconda3\\envs\\p37-env\\lib\\site-packages\\tensorboard\\compat\\tensorflow_stub\\dtypes.py:550: FutureWarning: Passing (type, 1) or '1type' as a synonym of type is deprecated; in a future version of numpy, it will be understood as (type, (1,)) / '(1,)type'.\n",
      "  np_resource = np.dtype([(\"resource\", np.ubyte, 1)])\n"
     ]
    }
   ],
   "source": [
    "from sklearn.preprocessing import LabelBinarizer\n",
    "from sklearn.model_selection import train_test_split\n",
    "from sklearn.metrics import classification_report\n",
    "from greenheritagellc.preprocessing import Preprocessor\n",
    "from greenheritagellc.preprocessing import ImageToArrayPreprocessor\n",
    "from greenheritagellc.datasets import DatasetLoader\n",
    "from greenheritagellc.nn.conv import ShallowNet\n",
    "from keras.optimizers import SGD\n",
    "from imutils import paths\n",
    "import matplotlib.pyplot as plt\n",
    "import numpy as np"
   ]
  },
  {
   "cell_type": "markdown",
   "metadata": {},
   "source": [
    "### Define inputs"
   ]
  },
  {
   "cell_type": "code",
   "execution_count": 2,
   "metadata": {},
   "outputs": [],
   "source": [
    "dataset_path = \".\\\\datasets\\\\animals\""
   ]
  },
  {
   "cell_type": "markdown",
   "metadata": {},
   "source": [
    "### Grab the list of images that we'll be describing"
   ]
  },
  {
   "cell_type": "code",
   "execution_count": 3,
   "metadata": {},
   "outputs": [
    {
     "name": "stdout",
     "output_type": "stream",
     "text": [
      "[INFO] loading images...\n"
     ]
    }
   ],
   "source": [
    "print(\"[INFO] loading images...\")\n",
    "imagePaths = list(paths.list_images(dataset_path))\n"
   ]
  },
  {
   "cell_type": "markdown",
   "metadata": {},
   "source": [
    "### Initialize the image resize preprocessor and imageto numpyarray preprocessor\n"
   ]
  },
  {
   "cell_type": "code",
   "execution_count": 4,
   "metadata": {
    "scrolled": true
   },
   "outputs": [],
   "source": [
    "pp = Preprocessor(32, 32)\n",
    "imagetoarraypp = ImageToArrayPreprocessor()\n",
    "\n",
    "\n"
   ]
  },
  {
   "cell_type": "markdown",
   "metadata": {},
   "source": [
    "### Load the dataset from disk and reshape the data matrix"
   ]
  },
  {
   "cell_type": "code",
   "execution_count": 5,
   "metadata": {},
   "outputs": [
    {
     "name": "stdout",
     "output_type": "stream",
     "text": [
      "imagepath: .\\datasets\\animals\\cats\\cats_00001.jpg\n",
      "label before: ['.', 'datasets', 'animals', 'cats', 'cats_00001.jpg']\n",
      "label after: cats\n",
      "[INFO] processed 500/3000\n",
      "[INFO] processed 1000/3000\n",
      "[INFO] processed 1500/3000\n",
      "[INFO] processed 2000/3000\n",
      "[INFO] processed 2500/3000\n",
      "[INFO] processed 3000/3000\n",
      "(3000, 32, 32, 3)\n",
      "(3000,)\n"
     ]
    }
   ],
   "source": [
    "dl = DatasetLoader(preprocessors=[pp, imagetoarraypp])\n",
    "(data, labels) = dl.load(imagePaths, verbose=500)\n",
    "data = data.astype(\"float\") / 255.0\n",
    "print(data.shape)\n",
    "print(labels.shape)"
   ]
  },
  {
   "cell_type": "markdown",
   "metadata": {},
   "source": [
    "### Show some information on memory consumption of the images"
   ]
  },
  {
   "cell_type": "code",
   "execution_count": 6,
   "metadata": {},
   "outputs": [
    {
     "name": "stdout",
     "output_type": "stream",
     "text": [
      "[INFO] features matrix: 70.3MB\n"
     ]
    }
   ],
   "source": [
    "print(\"[INFO] features matrix: {:.1f}MB\".format(\n",
    "\tdata.nbytes / (1024 * 1024.0)))"
   ]
  },
  {
   "cell_type": "markdown",
   "metadata": {},
   "source": [
    "### Partition the data into training and testing splits using 75% of the data for training and the remaining 25% for testing"
   ]
  },
  {
   "cell_type": "code",
   "execution_count": 7,
   "metadata": {},
   "outputs": [
    {
     "name": "stdout",
     "output_type": "stream",
     "text": [
      "(2250, 32, 32, 3)\n",
      "(750, 32, 32, 3)\n",
      "(2250,)\n",
      "(750,)\n",
      "['panda' 'cats' 'dogs' 'dogs' 'cats' 'panda' 'cats' 'cats' 'panda']\n"
     ]
    }
   ],
   "source": [
    "(trainX, testX, trainY, testY) = train_test_split(data, labels, test_size=0.25, random_state=42)\n",
    "print(trainX.shape)\n",
    "print(testX.shape)\n",
    "print(trainY.shape)\n",
    "print(testY.shape)\n",
    "print(trainY[0:9])"
   ]
  },
  {
   "cell_type": "markdown",
   "metadata": {},
   "source": [
    "### convert the labels from integers to vectors"
   ]
  },
  {
   "cell_type": "code",
   "execution_count": 8,
   "metadata": {},
   "outputs": [
    {
     "name": "stdout",
     "output_type": "stream",
     "text": [
      "[[0 0 1]\n",
      " [1 0 0]\n",
      " [0 1 0]\n",
      " [0 1 0]\n",
      " [1 0 0]\n",
      " [0 0 1]\n",
      " [1 0 0]\n",
      " [1 0 0]\n",
      " [0 0 1]]\n",
      "(2250, 3)\n",
      "(750, 3)\n"
     ]
    }
   ],
   "source": [
    "trainY = LabelBinarizer().fit_transform(trainY)\n",
    "testY = LabelBinarizer().fit_transform(testY)\n",
    "print(trainY[0:9])\n",
    "print(trainY.shape)\n",
    "print(testY.shape)"
   ]
  },
  {
   "cell_type": "markdown",
   "metadata": {},
   "source": [
    "###  initialize the optimizer and model"
   ]
  },
  {
   "cell_type": "code",
   "execution_count": 9,
   "metadata": {},
   "outputs": [
    {
     "name": "stderr",
     "output_type": "stream",
     "text": [
      "WARNING: Logging before flag parsing goes to stderr.\n",
      "W0825 23:14:34.182676 10760 deprecation_wrapper.py:119] From C:\\Anaconda3\\envs\\p37-env\\lib\\site-packages\\keras\\backend\\tensorflow_backend.py:66: The name tf.get_default_graph is deprecated. Please use tf.compat.v1.get_default_graph instead.\n",
      "\n",
      "W0825 23:14:34.182676 10760 deprecation_wrapper.py:119] From C:\\Anaconda3\\envs\\p37-env\\lib\\site-packages\\keras\\backend\\tensorflow_backend.py:541: The name tf.placeholder is deprecated. Please use tf.compat.v1.placeholder instead.\n",
      "\n",
      "W0825 23:14:34.198298 10760 deprecation_wrapper.py:119] From C:\\Anaconda3\\envs\\p37-env\\lib\\site-packages\\keras\\backend\\tensorflow_backend.py:4432: The name tf.random_uniform is deprecated. Please use tf.random.uniform instead.\n",
      "\n",
      "W0825 23:14:34.219653 10760 deprecation_wrapper.py:119] From C:\\Anaconda3\\envs\\p37-env\\lib\\site-packages\\keras\\optimizers.py:793: The name tf.train.Optimizer is deprecated. Please use tf.compat.v1.train.Optimizer instead.\n",
      "\n",
      "W0825 23:14:34.235275 10760 deprecation_wrapper.py:119] From C:\\Anaconda3\\envs\\p37-env\\lib\\site-packages\\keras\\backend\\tensorflow_backend.py:3576: The name tf.log is deprecated. Please use tf.math.log instead.\n",
      "\n"
     ]
    },
    {
     "name": "stdout",
     "output_type": "stream",
     "text": [
      "[INFO] compiling model...\n"
     ]
    }
   ],
   "source": [
    "\n",
    "print(\"[INFO] compiling model...\")\n",
    "opt = SGD(lr=0.005)\n",
    "model = ShallowNet.build(width=32, height=32, depth=3, classes=3)\n",
    "model.compile(loss=\"categorical_crossentropy\", optimizer=opt,\n",
    "\tmetrics=[\"accuracy\"])"
   ]
  },
  {
   "cell_type": "markdown",
   "metadata": {},
   "source": [
    "### train the network"
   ]
  },
  {
   "cell_type": "code",
   "execution_count": 10,
   "metadata": {},
   "outputs": [
    {
     "name": "stdout",
     "output_type": "stream",
     "text": [
      "[INFO] training network...\n"
     ]
    },
    {
     "name": "stderr",
     "output_type": "stream",
     "text": [
      "W0825 23:14:34.356079 10760 deprecation.py:323] From C:\\Anaconda3\\envs\\p37-env\\lib\\site-packages\\tensorflow\\python\\ops\\math_grad.py:1250: add_dispatch_support.<locals>.wrapper (from tensorflow.python.ops.array_ops) is deprecated and will be removed in a future version.\n",
      "Instructions for updating:\n",
      "Use tf.where in 2.0, which has the same broadcast rule as np.where\n",
      "W0825 23:14:34.451081 10760 deprecation_wrapper.py:119] From C:\\Anaconda3\\envs\\p37-env\\lib\\site-packages\\keras\\backend\\tensorflow_backend.py:1033: The name tf.assign_add is deprecated. Please use tf.compat.v1.assign_add instead.\n",
      "\n"
     ]
    },
    {
     "name": "stdout",
     "output_type": "stream",
     "text": [
      "Train on 2250 samples, validate on 750 samples\n",
      "Epoch 1/100\n",
      "2250/2250 [==============================] - 1s 640us/step - loss: 1.0122 - acc: 0.4676 - val_loss: 0.9872 - val_acc: 0.4520\n",
      "Epoch 2/100\n",
      "2250/2250 [==============================] - 2s 946us/step - loss: 0.9244 - acc: 0.5382 - val_loss: 1.0233 - val_acc: 0.5173\n",
      "Epoch 3/100\n",
      "2250/2250 [==============================] - 2s 784us/step - loss: 1.2054 - acc: 0.5004 - val_loss: 3.0445 - val_acc: 0.4067\n",
      "Epoch 4/100\n",
      "2250/2250 [==============================] - 2s 943us/step - loss: 4.5594 - acc: 0.4347 - val_loss: 8.7375 - val_acc: 0.3827\n",
      "Epoch 5/100\n",
      "2250/2250 [==============================] - 2s 856us/step - loss: 7.1826 - acc: 0.4378 - val_loss: 8.0492 - val_acc: 0.3693\n",
      "Epoch 6/100\n",
      "2250/2250 [==============================] - 2s 730us/step - loss: 7.0791 - acc: 0.4787 - val_loss: 8.7432 - val_acc: 0.4147\n",
      "Epoch 7/100\n",
      "2250/2250 [==============================] - 1s 624us/step - loss: 7.2437 - acc: 0.4924 - val_loss: 6.8115 - val_acc: 0.5067\n",
      "Epoch 8/100\n",
      "2250/2250 [==============================] - 1s 662us/step - loss: 7.4379 - acc: 0.4769 - val_loss: 6.7388 - val_acc: 0.5333\n",
      "Epoch 9/100\n",
      "2250/2250 [==============================] - 1s 624us/step - loss: 7.4528 - acc: 0.4884 - val_loss: 10.1173 - val_acc: 0.3467\n",
      "Epoch 10/100\n",
      "2250/2250 [==============================] - 1s 554us/step - loss: 7.3174 - acc: 0.4982 - val_loss: 10.5497 - val_acc: 0.3280\n",
      "Epoch 11/100\n",
      "2250/2250 [==============================] - 1s 529us/step - loss: 7.6497 - acc: 0.4849 - val_loss: 7.0911 - val_acc: 0.5187\n",
      "Epoch 12/100\n",
      "2250/2250 [==============================] - 1s 558us/step - loss: 7.3600 - acc: 0.5053 - val_loss: 8.8237 - val_acc: 0.4400\n",
      "Epoch 13/100\n",
      "2250/2250 [==============================] - 1s 630us/step - loss: 7.3935 - acc: 0.5107 - val_loss: 6.9677 - val_acc: 0.5280\n",
      "Epoch 14/100\n",
      "2250/2250 [==============================] - 1s 541us/step - loss: 7.2770 - acc: 0.5098 - val_loss: 7.9794 - val_acc: 0.4480\n",
      "Epoch 15/100\n",
      "2250/2250 [==============================] - 1s 528us/step - loss: 7.4000 - acc: 0.5027 - val_loss: 9.7933 - val_acc: 0.3613\n",
      "Epoch 16/100\n",
      "2250/2250 [==============================] - 1s 610us/step - loss: 7.5482 - acc: 0.5000 - val_loss: 6.9147 - val_acc: 0.5280\n",
      "Epoch 17/100\n",
      "2250/2250 [==============================] - 1s 576us/step - loss: 7.3598 - acc: 0.5133 - val_loss: 9.8874 - val_acc: 0.3587\n",
      "Epoch 18/100\n",
      "2250/2250 [==============================] - 1s 598us/step - loss: 7.5986 - acc: 0.4933 - val_loss: 9.3454 - val_acc: 0.3947\n",
      "Epoch 19/100\n",
      "2250/2250 [==============================] - 1s 525us/step - loss: 7.4671 - acc: 0.5036 - val_loss: 8.1793 - val_acc: 0.4720\n",
      "Epoch 20/100\n",
      "2250/2250 [==============================] - 1s 448us/step - loss: 7.4179 - acc: 0.5089 - val_loss: 8.4869 - val_acc: 0.4547\n",
      "Epoch 21/100\n",
      "2250/2250 [==============================] - 1s 497us/step - loss: 7.7254 - acc: 0.4929 - val_loss: 8.3626 - val_acc: 0.4613\n",
      "Epoch 22/100\n",
      "2250/2250 [==============================] - 1s 579us/step - loss: 7.5765 - acc: 0.5058 - val_loss: 8.2353 - val_acc: 0.4547\n",
      "Epoch 23/100\n",
      "2250/2250 [==============================] - 1s 518us/step - loss: 7.4622 - acc: 0.5151 - val_loss: 7.4404 - val_acc: 0.5200\n",
      "Epoch 24/100\n",
      "2250/2250 [==============================] - 1s 507us/step - loss: 7.5647 - acc: 0.5058 - val_loss: 7.2637 - val_acc: 0.5253\n",
      "Epoch 25/100\n",
      "2250/2250 [==============================] - 1s 466us/step - loss: 7.5188 - acc: 0.5116 - val_loss: 7.1532 - val_acc: 0.5293\n",
      "Epoch 26/100\n",
      "2250/2250 [==============================] - 1s 446us/step - loss: 7.6730 - acc: 0.5027 - val_loss: 8.2412 - val_acc: 0.4760\n",
      "Epoch 27/100\n",
      "2250/2250 [==============================] - 1s 424us/step - loss: 7.4050 - acc: 0.5191 - val_loss: 7.4343 - val_acc: 0.5200\n",
      "Epoch 28/100\n",
      "2250/2250 [==============================] - 1s 459us/step - loss: 7.5478 - acc: 0.5093 - val_loss: 7.3950 - val_acc: 0.5227\n",
      "Epoch 29/100\n",
      "2250/2250 [==============================] - 1s 579us/step - loss: 7.2464 - acc: 0.5347 - val_loss: 7.5877 - val_acc: 0.5093\n",
      "Epoch 30/100\n",
      "2250/2250 [==============================] - 1s 534us/step - loss: 7.4541 - acc: 0.5173 - val_loss: 7.3072 - val_acc: 0.5293\n",
      "Epoch 31/100\n",
      "2250/2250 [==============================] - 1s 493us/step - loss: 7.8032 - acc: 0.4996 - val_loss: 7.2139 - val_acc: 0.5293\n",
      "Epoch 32/100\n",
      "2250/2250 [==============================] - 1s 493us/step - loss: 7.7119 - acc: 0.5053 - val_loss: 7.5991 - val_acc: 0.5093\n",
      "Epoch 33/100\n",
      "2250/2250 [==============================] - 1s 528us/step - loss: 7.4260 - acc: 0.5236 - val_loss: 7.1351 - val_acc: 0.5413\n",
      "Epoch 34/100\n",
      "2250/2250 [==============================] - 1s 445us/step - loss: 7.2380 - acc: 0.5351 - val_loss: 7.3272 - val_acc: 0.5333\n",
      "Epoch 35/100\n",
      "2250/2250 [==============================] - 1s 438us/step - loss: 7.5456 - acc: 0.5164 - val_loss: 7.2263 - val_acc: 0.5320\n",
      "Epoch 36/100\n",
      "2250/2250 [==============================] - 1s 429us/step - loss: 7.6739 - acc: 0.5084 - val_loss: 7.6760 - val_acc: 0.5133\n",
      "Epoch 37/100\n",
      "2250/2250 [==============================] - 1s 454us/step - loss: 7.5640 - acc: 0.5173 - val_loss: 7.7611 - val_acc: 0.5067\n",
      "Epoch 38/100\n",
      "2250/2250 [==============================] - 1s 452us/step - loss: 7.4714 - acc: 0.5218 - val_loss: 7.0683 - val_acc: 0.5427\n",
      "Epoch 39/100\n",
      "2250/2250 [==============================] - 1s 476us/step - loss: 7.8375 - acc: 0.5009 - val_loss: 7.6838 - val_acc: 0.5040\n",
      "Epoch 40/100\n",
      "2250/2250 [==============================] - 1s 452us/step - loss: 7.6524 - acc: 0.5147 - val_loss: 8.0985 - val_acc: 0.4840\n",
      "Epoch 41/100\n",
      "2250/2250 [==============================] - 1s 418us/step - loss: 7.4905 - acc: 0.5227 - val_loss: 7.5760 - val_acc: 0.5227\n",
      "Epoch 42/100\n",
      "2250/2250 [==============================] - 1s 422us/step - loss: 7.4726 - acc: 0.5236 - val_loss: 7.6400 - val_acc: 0.5160\n",
      "Epoch 43/100\n",
      "2250/2250 [==============================] - 1s 425us/step - loss: 7.5833 - acc: 0.5187 - val_loss: 7.5906 - val_acc: 0.5213\n",
      "Epoch 44/100\n",
      "2250/2250 [==============================] - 1s 549us/step - loss: 7.5795 - acc: 0.5196 - val_loss: 7.4236 - val_acc: 0.5293\n",
      "Epoch 45/100\n",
      "2250/2250 [==============================] - 1s 511us/step - loss: 7.4857 - acc: 0.5200 - val_loss: 8.2791 - val_acc: 0.4773\n",
      "Epoch 46/100\n",
      "2250/2250 [==============================] - 1s 461us/step - loss: 7.8256 - acc: 0.4991 - val_loss: 8.2504 - val_acc: 0.4787\n",
      "Epoch 47/100\n",
      "2250/2250 [==============================] - 1s 545us/step - loss: 7.4048 - acc: 0.5271 - val_loss: 7.5472 - val_acc: 0.5173\n",
      "Epoch 48/100\n",
      "2250/2250 [==============================] - 1s 506us/step - loss: 7.5130 - acc: 0.5236 - val_loss: 9.2654 - val_acc: 0.4147\n",
      "Epoch 49/100\n",
      "2250/2250 [==============================] - 1s 516us/step - loss: 7.3289 - acc: 0.5360 - val_loss: 7.3498 - val_acc: 0.5333\n",
      "Epoch 50/100\n",
      "2250/2250 [==============================] - 1s 417us/step - loss: 7.4070 - acc: 0.5289 - val_loss: 7.7824 - val_acc: 0.5027\n",
      "Epoch 51/100\n",
      "2250/2250 [==============================] - 1s 401us/step - loss: 7.4276 - acc: 0.5276 - val_loss: 9.9691 - val_acc: 0.3667\n",
      "Epoch 52/100\n",
      "2250/2250 [==============================] - 1s 411us/step - loss: 7.5009 - acc: 0.5231 - val_loss: 7.7293 - val_acc: 0.5067\n",
      "Epoch 53/100\n",
      "2250/2250 [==============================] - 1s 415us/step - loss: 7.6723 - acc: 0.5102 - val_loss: 9.0710 - val_acc: 0.4293\n",
      "Epoch 54/100\n",
      "2250/2250 [==============================] - 1s 412us/step - loss: 7.5484 - acc: 0.5213 - val_loss: 7.5360 - val_acc: 0.5227\n",
      "Epoch 55/100\n",
      "2250/2250 [==============================] - 1s 403us/step - loss: 7.4757 - acc: 0.5302 - val_loss: 7.5218 - val_acc: 0.5227\n",
      "Epoch 56/100\n",
      "2250/2250 [==============================] - 1s 408us/step - loss: 7.4080 - acc: 0.5302 - val_loss: 7.7158 - val_acc: 0.5107\n",
      "Epoch 57/100\n",
      "2250/2250 [==============================] - 1s 404us/step - loss: 7.5152 - acc: 0.5249 - val_loss: 7.2440 - val_acc: 0.5400\n",
      "Epoch 58/100\n",
      "2250/2250 [==============================] - 1s 417us/step - loss: 7.5262 - acc: 0.5258 - val_loss: 7.5147 - val_acc: 0.5253\n",
      "Epoch 59/100\n",
      "2250/2250 [==============================] - 1s 399us/step - loss: 7.7169 - acc: 0.5156 - val_loss: 7.2247 - val_acc: 0.5467\n",
      "Epoch 60/100\n"
     ]
    },
    {
     "name": "stdout",
     "output_type": "stream",
     "text": [
      "2250/2250 [==============================] - 1s 459us/step - loss: 7.7083 - acc: 0.5120 - val_loss: 7.6856 - val_acc: 0.5213\n",
      "Epoch 61/100\n",
      "2250/2250 [==============================] - 1s 438us/step - loss: 7.4404 - acc: 0.5320 - val_loss: 7.7062 - val_acc: 0.5107\n",
      "Epoch 62/100\n",
      "2250/2250 [==============================] - 1s 425us/step - loss: 7.4141 - acc: 0.5338 - val_loss: 7.5364 - val_acc: 0.5267\n",
      "Epoch 63/100\n",
      "2250/2250 [==============================] - 1s 497us/step - loss: 7.5063 - acc: 0.5276 - val_loss: 7.7877 - val_acc: 0.5067\n",
      "Epoch 64/100\n",
      "2250/2250 [==============================] - 1s 504us/step - loss: 7.3422 - acc: 0.5396 - val_loss: 7.4719 - val_acc: 0.5227\n",
      "Epoch 65/100\n",
      "2250/2250 [==============================] - 1s 453us/step - loss: 7.4241 - acc: 0.5311 - val_loss: 7.2771 - val_acc: 0.5387\n",
      "Epoch 66/100\n",
      "2250/2250 [==============================] - 1s 469us/step - loss: 7.3382 - acc: 0.5382 - val_loss: 9.5700 - val_acc: 0.3987\n",
      "Epoch 67/100\n",
      "2250/2250 [==============================] - 1s 431us/step - loss: 7.3320 - acc: 0.5360 - val_loss: 7.2646 - val_acc: 0.5440\n",
      "Epoch 68/100\n",
      "2250/2250 [==============================] - 1s 480us/step - loss: 7.4938 - acc: 0.5258 - val_loss: 8.2792 - val_acc: 0.4773\n",
      "Epoch 69/100\n",
      "2250/2250 [==============================] - 1s 462us/step - loss: 7.5878 - acc: 0.5227 - val_loss: 7.5034 - val_acc: 0.5213\n",
      "Epoch 70/100\n",
      "2250/2250 [==============================] - 1s 401us/step - loss: 7.3224 - acc: 0.5382 - val_loss: 7.2573 - val_acc: 0.5387\n",
      "Epoch 71/100\n",
      "2250/2250 [==============================] - 1s 377us/step - loss: 7.6343 - acc: 0.5209 - val_loss: 7.4610 - val_acc: 0.5293\n",
      "Epoch 72/100\n",
      "2250/2250 [==============================] - 1s 387us/step - loss: 7.6410 - acc: 0.5182 - val_loss: 7.8073 - val_acc: 0.5093\n",
      "Epoch 73/100\n",
      "2250/2250 [==============================] - 1s 403us/step - loss: 7.3933 - acc: 0.5356 - val_loss: 7.4255 - val_acc: 0.5333\n",
      "Epoch 74/100\n",
      "2250/2250 [==============================] - 1s 398us/step - loss: 7.4040 - acc: 0.5356 - val_loss: 7.7368 - val_acc: 0.5133\n",
      "Epoch 75/100\n",
      "2250/2250 [==============================] - 1s 401us/step - loss: 7.5222 - acc: 0.5253 - val_loss: 9.2154 - val_acc: 0.4187\n",
      "Epoch 76/100\n",
      "2250/2250 [==============================] - 1s 432us/step - loss: 7.4991 - acc: 0.5262 - val_loss: 7.8038 - val_acc: 0.5093\n",
      "Epoch 77/100\n",
      "2250/2250 [==============================] - 1s 453us/step - loss: 7.4646 - acc: 0.5276 - val_loss: 7.3713 - val_acc: 0.5400\n",
      "Epoch 78/100\n",
      "2250/2250 [==============================] - 1s 418us/step - loss: 7.3860 - acc: 0.5373 - val_loss: 7.5648 - val_acc: 0.5240\n",
      "Epoch 79/100\n",
      "2250/2250 [==============================] - 1s 438us/step - loss: 7.3371 - acc: 0.5378 - val_loss: 7.6473 - val_acc: 0.5213\n",
      "Epoch 80/100\n",
      "2250/2250 [==============================] - 1s 551us/step - loss: 7.2802 - acc: 0.5413 - val_loss: 7.6336 - val_acc: 0.5213\n",
      "Epoch 81/100\n",
      "2250/2250 [==============================] - 1s 439us/step - loss: 7.2831 - acc: 0.5418 - val_loss: 7.3124 - val_acc: 0.5427\n",
      "Epoch 82/100\n",
      "2250/2250 [==============================] - 1s 477us/step - loss: 7.5146 - acc: 0.5271 - val_loss: 7.5912 - val_acc: 0.5240\n",
      "Epoch 83/100\n",
      "2250/2250 [==============================] - 1s 434us/step - loss: 7.3293 - acc: 0.5373 - val_loss: 8.7853 - val_acc: 0.4493\n",
      "Epoch 84/100\n",
      "2250/2250 [==============================] - 1s 422us/step - loss: 7.3205 - acc: 0.5404 - val_loss: 7.5858 - val_acc: 0.5240\n",
      "Epoch 85/100\n",
      "2250/2250 [==============================] - 1s 411us/step - loss: 7.4434 - acc: 0.5342 - val_loss: 7.5930 - val_acc: 0.5267\n",
      "Epoch 86/100\n",
      "2250/2250 [==============================] - 1s 401us/step - loss: 7.4504 - acc: 0.5333 - val_loss: 7.3128 - val_acc: 0.5427\n",
      "Epoch 87/100\n",
      "2250/2250 [==============================] - 1s 408us/step - loss: 7.5576 - acc: 0.5258 - val_loss: 9.4681 - val_acc: 0.4080\n",
      "Epoch 88/100\n",
      "2250/2250 [==============================] - 1s 422us/step - loss: 7.8355 - acc: 0.5093 - val_loss: 7.9634 - val_acc: 0.4973\n",
      "Epoch 89/100\n",
      "2250/2250 [==============================] - 1s 399us/step - loss: 7.4406 - acc: 0.5329 - val_loss: 8.0823 - val_acc: 0.4920\n",
      "Epoch 90/100\n",
      "2250/2250 [==============================] - 1s 413us/step - loss: 7.5531 - acc: 0.5249 - val_loss: 7.3960 - val_acc: 0.5333\n",
      "Epoch 91/100\n",
      "2250/2250 [==============================] - 1s 401us/step - loss: 7.3636 - acc: 0.5369 - val_loss: 7.8725 - val_acc: 0.5067\n",
      "Epoch 92/100\n",
      "2250/2250 [==============================] - 1s 408us/step - loss: 7.6847 - acc: 0.5164 - val_loss: 8.0738 - val_acc: 0.4933\n",
      "Epoch 93/100\n",
      "2250/2250 [==============================] - 1s 497us/step - loss: 7.7487 - acc: 0.5133 - val_loss: 7.3300 - val_acc: 0.5387\n",
      "Epoch 94/100\n",
      "2250/2250 [==============================] - 1s 445us/step - loss: 7.4398 - acc: 0.5320 - val_loss: 7.7062 - val_acc: 0.5160\n",
      "Epoch 95/100\n",
      "2250/2250 [==============================] - 1s 483us/step - loss: 8.0152 - acc: 0.4956 - val_loss: 7.9885 - val_acc: 0.4987\n",
      "Epoch 96/100\n",
      "2250/2250 [==============================] - 1s 485us/step - loss: 7.7302 - acc: 0.5147 - val_loss: 7.5463 - val_acc: 0.5267\n",
      "Epoch 97/100\n",
      "2250/2250 [==============================] - 1s 457us/step - loss: 7.9729 - acc: 0.5004 - val_loss: 7.5758 - val_acc: 0.5240\n",
      "Epoch 98/100\n",
      "2250/2250 [==============================] - 1s 462us/step - loss: 7.3459 - acc: 0.5382 - val_loss: 9.0047 - val_acc: 0.4333\n",
      "Epoch 99/100\n",
      "2250/2250 [==============================] - 1s 559us/step - loss: 7.5678 - acc: 0.5244 - val_loss: 7.5147 - val_acc: 0.5213\n",
      "Epoch 100/100\n",
      "2250/2250 [==============================] - 1s 488us/step - loss: 7.4974 - acc: 0.5280 - val_loss: 7.1992 - val_acc: 0.5507\n"
     ]
    }
   ],
   "source": [
    "\n",
    "print(\"[INFO] training network...\")\n",
    "H = model.fit(trainX, trainY, validation_data=(testX, testY),\n",
    "\tbatch_size=32, epochs=100, verbose=1)"
   ]
  },
  {
   "cell_type": "markdown",
   "metadata": {},
   "source": [
    "### evaluate the network"
   ]
  },
  {
   "cell_type": "code",
   "execution_count": 11,
   "metadata": {},
   "outputs": [
    {
     "name": "stdout",
     "output_type": "stream",
     "text": [
      "[INFO] evaluating network...\n",
      "              precision    recall  f1-score   support\n",
      "\n",
      "         cat       0.46      0.90      0.61       262\n",
      "         dog       0.00      0.00      0.00       249\n",
      "       panda       0.75      0.74      0.74       239\n",
      "\n",
      "    accuracy                           0.55       750\n",
      "   macro avg       0.40      0.55      0.45       750\n",
      "weighted avg       0.40      0.55      0.45       750\n",
      "\n"
     ]
    },
    {
     "name": "stderr",
     "output_type": "stream",
     "text": [
      "C:\\Anaconda3\\envs\\p37-env\\lib\\site-packages\\sklearn\\metrics\\classification.py:1437: UndefinedMetricWarning: Precision and F-score are ill-defined and being set to 0.0 in labels with no predicted samples.\n",
      "  'precision', 'predicted', average, warn_for)\n"
     ]
    }
   ],
   "source": [
    "\n",
    "# evaluate the network\n",
    "print(\"[INFO] evaluating network...\")\n",
    "predictions = model.predict(testX, batch_size=32)\n",
    "print(classification_report(testY.argmax(axis=1),\n",
    "\tpredictions.argmax(axis=1),\n",
    "\ttarget_names=[\"cat\", \"dog\", \"panda\"]))"
   ]
  },
  {
   "cell_type": "markdown",
   "metadata": {},
   "source": [
    "### plot the training loss and accuracy"
   ]
  },
  {
   "cell_type": "code",
   "execution_count": 12,
   "metadata": {},
   "outputs": [
    {
     "data": {
      "image/png": "[encoded data removed]",
      "text/plain": [
       "<Figure size 432x288 with 1 Axes>"
      ]
     },
     "metadata": {},
     "output_type": "display_data"
    }
   ],
   "source": [
    "\n",
    "plt.style.use(\"ggplot\")\n",
    "plt.figure()\n",
    "plt.plot(np.arange(0, 100), H.history[\"loss\"], label=\"train_loss\")\n",
    "plt.plot(np.arange(0, 100), H.history[\"val_loss\"], label=\"val_loss\")\n",
    "plt.plot(np.arange(0, 100), H.history[\"acc\"], label=\"train_acc\")\n",
    "plt.plot(np.arange(0, 100), H.history[\"val_acc\"], label=\"val_acc\")\n",
    "plt.title(\"Training Loss and Accuracy\")\n",
    "plt.xlabel(\"Epoch #\")\n",
    "plt.ylabel(\"Loss/Accuracy\")\n",
    "plt.legend()\n",
    "plt.show()"
   ]
  },
  {
   "cell_type": "code",
   "execution_count": null,
   "metadata": {},
   "outputs": [],
   "source": []
  }
 ],
 "metadata": {
  "kernelspec": {
   "display_name": "Python 3",
   "language": "python",
   "name": "python3"
  },
  "language_info": {
   "codemirror_mode": {
    "name": "ipython",
    "version": 3
   },
   "file_extension": ".py",
   "mimetype": "text/x-python",
   "name": "python",
   "nbconvert_exporter": "python",
   "pygments_lexer": "ipython3",
   "version": "3.7.3"
  }
 },
 "nbformat": 4,
 "nbformat_minor": 2
}
