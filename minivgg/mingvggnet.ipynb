{
 "cells": [
  {
   "cell_type": "markdown",
   "metadata": {},
   "source": [
    "# =============================================================\n",
    "# Image classification using VGG  \n",
    "# ============================================================="
   ]
  },
  {
   "cell_type": "markdown",
   "metadata": {},
   "source": [
    "###         Declare namespaces for packages used in code"
   ]
  },
  {
   "cell_type": "code",
   "execution_count": 1,
   "metadata": {},
   "outputs": [],
   "source": [
    "import matplotlib\n",
    "matplotlib.use(\"Agg\")"
   ]
  },
  {
   "cell_type": "code",
   "execution_count": 2,
   "metadata": {},
   "outputs": [
    {
     "name": "stderr",
     "output_type": "stream",
     "text": [
      "Using TensorFlow backend.\n",
      "C:\\Anaconda3\\envs\\p37-env\\lib\\site-packages\\tensorflow\\python\\framework\\dtypes.py:516: FutureWarning: Passing (type, 1) or '1type' as a synonym of type is deprecated; in a future version of numpy, it will be understood as (type, (1,)) / '(1,)type'.\n",
      "  _np_qint8 = np.dtype([(\"qint8\", np.int8, 1)])\n",
      "C:\\Anaconda3\\envs\\p37-env\\lib\\site-packages\\tensorflow\\python\\framework\\dtypes.py:517: FutureWarning: Passing (type, 1) or '1type' as a synonym of type is deprecated; in a future version of numpy, it will be understood as (type, (1,)) / '(1,)type'.\n",
      "  _np_quint8 = np.dtype([(\"quint8\", np.uint8, 1)])\n",
      "C:\\Anaconda3\\envs\\p37-env\\lib\\site-packages\\tensorflow\\python\\framework\\dtypes.py:518: FutureWarning: Passing (type, 1) or '1type' as a synonym of type is deprecated; in a future version of numpy, it will be understood as (type, (1,)) / '(1,)type'.\n",
      "  _np_qint16 = np.dtype([(\"qint16\", np.int16, 1)])\n",
      "C:\\Anaconda3\\envs\\p37-env\\lib\\site-packages\\tensorflow\\python\\framework\\dtypes.py:519: FutureWarning: Passing (type, 1) or '1type' as a synonym of type is deprecated; in a future version of numpy, it will be understood as (type, (1,)) / '(1,)type'.\n",
      "  _np_quint16 = np.dtype([(\"quint16\", np.uint16, 1)])\n",
      "C:\\Anaconda3\\envs\\p37-env\\lib\\site-packages\\tensorflow\\python\\framework\\dtypes.py:520: FutureWarning: Passing (type, 1) or '1type' as a synonym of type is deprecated; in a future version of numpy, it will be understood as (type, (1,)) / '(1,)type'.\n",
      "  _np_qint32 = np.dtype([(\"qint32\", np.int32, 1)])\n",
      "C:\\Anaconda3\\envs\\p37-env\\lib\\site-packages\\tensorflow\\python\\framework\\dtypes.py:525: FutureWarning: Passing (type, 1) or '1type' as a synonym of type is deprecated; in a future version of numpy, it will be understood as (type, (1,)) / '(1,)type'.\n",
      "  np_resource = np.dtype([(\"resource\", np.ubyte, 1)])\n",
      "C:\\Anaconda3\\envs\\p37-env\\lib\\site-packages\\tensorboard\\compat\\tensorflow_stub\\dtypes.py:541: FutureWarning: Passing (type, 1) or '1type' as a synonym of type is deprecated; in a future version of numpy, it will be understood as (type, (1,)) / '(1,)type'.\n",
      "  _np_qint8 = np.dtype([(\"qint8\", np.int8, 1)])\n",
      "C:\\Anaconda3\\envs\\p37-env\\lib\\site-packages\\tensorboard\\compat\\tensorflow_stub\\dtypes.py:542: FutureWarning: Passing (type, 1) or '1type' as a synonym of type is deprecated; in a future version of numpy, it will be understood as (type, (1,)) / '(1,)type'.\n",
      "  _np_quint8 = np.dtype([(\"quint8\", np.uint8, 1)])\n",
      "C:\\Anaconda3\\envs\\p37-env\\lib\\site-packages\\tensorboard\\compat\\tensorflow_stub\\dtypes.py:543: FutureWarning: Passing (type, 1) or '1type' as a synonym of type is deprecated; in a future version of numpy, it will be understood as (type, (1,)) / '(1,)type'.\n",
      "  _np_qint16 = np.dtype([(\"qint16\", np.int16, 1)])\n",
      "C:\\Anaconda3\\envs\\p37-env\\lib\\site-packages\\tensorboard\\compat\\tensorflow_stub\\dtypes.py:544: FutureWarning: Passing (type, 1) or '1type' as a synonym of type is deprecated; in a future version of numpy, it will be understood as (type, (1,)) / '(1,)type'.\n",
      "  _np_quint16 = np.dtype([(\"quint16\", np.uint16, 1)])\n",
      "C:\\Anaconda3\\envs\\p37-env\\lib\\site-packages\\tensorboard\\compat\\tensorflow_stub\\dtypes.py:545: FutureWarning: Passing (type, 1) or '1type' as a synonym of type is deprecated; in a future version of numpy, it will be understood as (type, (1,)) / '(1,)type'.\n",
      "  _np_qint32 = np.dtype([(\"qint32\", np.int32, 1)])\n",
      "C:\\Anaconda3\\envs\\p37-env\\lib\\site-packages\\tensorboard\\compat\\tensorflow_stub\\dtypes.py:550: FutureWarning: Passing (type, 1) or '1type' as a synonym of type is deprecated; in a future version of numpy, it will be understood as (type, (1,)) / '(1,)type'.\n",
      "  np_resource = np.dtype([(\"resource\", np.ubyte, 1)])\n"
     ]
    }
   ],
   "source": [
    "# import the necessary packages\n",
    "from sklearn.preprocessing import LabelBinarizer\n",
    "from sklearn.metrics import classification_report\n",
    "from pyimagesearch.nn.conv import MiniVGGNet\n",
    "from keras.optimizers import SGD\n",
    "from keras.datasets import cifar10\n",
    "import matplotlib.pyplot as plt\n",
    "import numpy as np\n",
    "import argparse"
   ]
  },
  {
   "cell_type": "code",
   "execution_count": null,
   "metadata": {},
   "outputs": [],
   "source": []
  },
  {
   "cell_type": "markdown",
   "metadata": {},
   "source": [
    "\n",
    "# load the training and testing data, then scale it into the\n",
    "# range [0, 1]"
   ]
  },
  {
   "cell_type": "code",
   "execution_count": 3,
   "metadata": {},
   "outputs": [
    {
     "name": "stdout",
     "output_type": "stream",
     "text": [
      "[INFO] loading CIFAR-10 data...\n"
     ]
    }
   ],
   "source": [
    "# load the training and testing data, then scale it into the\n",
    "# range [0, 1]\n",
    "print(\"[INFO] loading CIFAR-10 data...\")\n",
    "((trainX, trainY), (testX, testY)) = cifar10.load_data()\n",
    "trainX = trainX.astype(\"float\") / 255.0\n",
    "testX = testX.astype(\"float\") / 255.0"
   ]
  },
  {
   "cell_type": "markdown",
   "metadata": {},
   "source": [
    "# convert the labels from integers to vectors"
   ]
  },
  {
   "cell_type": "code",
   "execution_count": 4,
   "metadata": {},
   "outputs": [],
   "source": [
    "# convert the labels from integers to vectors\n",
    "lb = LabelBinarizer()\n",
    "trainY = lb.fit_transform(trainY)\n",
    "testY = lb.transform(testY)\n",
    "\n",
    "# initialize the label names for the CIFAR-10 dataset\n",
    "labelNames = [\"airplane\", \"automobile\", \"bird\", \"cat\", \"deer\",\n",
    "\t\"dog\", \"frog\", \"horse\", \"ship\", \"truck\"]\n",
    "\n"
   ]
  },
  {
   "cell_type": "markdown",
   "metadata": {},
   "source": [
    "\n",
    "# initialize the optimizer and model\n"
   ]
  },
  {
   "cell_type": "code",
   "execution_count": 5,
   "metadata": {
    "scrolled": true
   },
   "outputs": [
    {
     "name": "stderr",
     "output_type": "stream",
     "text": [
      "WARNING: Logging before flag parsing goes to stderr.\n",
      "W0831 11:13:23.790603  2192 deprecation_wrapper.py:119] From C:\\Anaconda3\\envs\\p37-env\\lib\\site-packages\\keras\\backend\\tensorflow_backend.py:66: The name tf.get_default_graph is deprecated. Please use tf.compat.v1.get_default_graph instead.\n",
      "\n",
      "W0831 11:13:23.791628  2192 deprecation_wrapper.py:119] From C:\\Anaconda3\\envs\\p37-env\\lib\\site-packages\\keras\\backend\\tensorflow_backend.py:541: The name tf.placeholder is deprecated. Please use tf.compat.v1.placeholder instead.\n",
      "\n",
      "W0831 11:13:23.794590  2192 deprecation_wrapper.py:119] From C:\\Anaconda3\\envs\\p37-env\\lib\\site-packages\\keras\\backend\\tensorflow_backend.py:4432: The name tf.random_uniform is deprecated. Please use tf.random.uniform instead.\n",
      "\n",
      "W0831 11:13:23.831519  2192 deprecation_wrapper.py:119] From C:\\Anaconda3\\envs\\p37-env\\lib\\site-packages\\keras\\backend\\tensorflow_backend.py:190: The name tf.get_default_session is deprecated. Please use tf.compat.v1.get_default_session instead.\n",
      "\n",
      "W0831 11:13:23.832520  2192 deprecation_wrapper.py:119] From C:\\Anaconda3\\envs\\p37-env\\lib\\site-packages\\keras\\backend\\tensorflow_backend.py:197: The name tf.ConfigProto is deprecated. Please use tf.compat.v1.ConfigProto instead.\n",
      "\n",
      "W0831 11:13:23.925085  2192 deprecation_wrapper.py:119] From C:\\Anaconda3\\envs\\p37-env\\lib\\site-packages\\keras\\backend\\tensorflow_backend.py:2041: The name tf.nn.fused_batch_norm is deprecated. Please use tf.compat.v1.nn.fused_batch_norm instead.\n",
      "\n"
     ]
    },
    {
     "name": "stdout",
     "output_type": "stream",
     "text": [
      "[INFO] compiling model...\n"
     ]
    },
    {
     "name": "stderr",
     "output_type": "stream",
     "text": [
      "W0831 11:13:24.060965  2192 deprecation_wrapper.py:119] From C:\\Anaconda3\\envs\\p37-env\\lib\\site-packages\\keras\\backend\\tensorflow_backend.py:4267: The name tf.nn.max_pool is deprecated. Please use tf.nn.max_pool2d instead.\n",
      "\n",
      "W0831 11:13:24.082886  2192 deprecation.py:506] From C:\\Anaconda3\\envs\\p37-env\\lib\\site-packages\\keras\\backend\\tensorflow_backend.py:3733: calling dropout (from tensorflow.python.ops.nn_ops) with keep_prob is deprecated and will be removed in a future version.\n",
      "Instructions for updating:\n",
      "Please use `rate` instead of `keep_prob`. Rate should be set to `rate = 1 - keep_prob`.\n",
      "W0831 11:13:24.444221  2192 deprecation_wrapper.py:119] From C:\\Anaconda3\\envs\\p37-env\\lib\\site-packages\\keras\\optimizers.py:793: The name tf.train.Optimizer is deprecated. Please use tf.compat.v1.train.Optimizer instead.\n",
      "\n"
     ]
    }
   ],
   "source": [
    "\n",
    "# initialize the optimizer and model\n",
    "print(\"[INFO] compiling model...\")\n",
    "opt = SGD(lr=0.01, decay=0.01 / 40, momentum=0.9, nesterov=True)\n",
    "model = MiniVGGNet.build(width=32, height=32, depth=3, classes=10)\n",
    "model.compile(loss=\"categorical_crossentropy\", optimizer=opt,\n",
    "\tmetrics=[\"accuracy\"])\n",
    "\n",
    "\n"
   ]
  },
  {
   "cell_type": "markdown",
   "metadata": {},
   "source": [
    "\n",
    "# train the network"
   ]
  },
  {
   "cell_type": "code",
   "execution_count": 6,
   "metadata": {},
   "outputs": [
    {
     "name": "stderr",
     "output_type": "stream",
     "text": [
      "W0831 11:13:24.559565  2192 deprecation.py:323] From C:\\Anaconda3\\envs\\p37-env\\lib\\site-packages\\tensorflow\\python\\ops\\math_grad.py:1250: add_dispatch_support.<locals>.wrapper (from tensorflow.python.ops.array_ops) is deprecated and will be removed in a future version.\n",
      "Instructions for updating:\n",
      "Use tf.where in 2.0, which has the same broadcast rule as np.where\n"
     ]
    },
    {
     "name": "stdout",
     "output_type": "stream",
     "text": [
      "[INFO] training network...\n",
      "Train on 50000 samples, validate on 10000 samples\n",
      "Epoch 1/40\n",
      "50000/50000 [==============================] - 452s 9ms/step - loss: 1.6693 - acc: 0.4421 - val_loss: 1.1227 - val_acc: 0.5940\n",
      "Epoch 2/40\n",
      "50000/50000 [==============================] - 501s 10ms/step - loss: 1.1761 - acc: 0.5911 - val_loss: 0.9841 - val_acc: 0.6584\n",
      "Epoch 3/40\n",
      "50000/50000 [==============================] - 25701s 514ms/step - loss: 0.9793 - acc: 0.6573 - val_loss: 0.8504 - val_acc: 0.6994\n",
      "Epoch 4/40\n",
      "50000/50000 [==============================] - 579s 12ms/step - loss: 0.8751 - acc: 0.6932 - val_loss: 0.7781 - val_acc: 0.7287\n",
      "Epoch 5/40\n",
      "50000/50000 [==============================] - 606s 12ms/step - loss: 0.7959 - acc: 0.7199 - val_loss: 0.7218 - val_acc: 0.7455\n",
      "Epoch 6/40\n",
      "50000/50000 [==============================] - 576s 12ms/step - loss: 0.7377 - acc: 0.7420 - val_loss: 0.6833 - val_acc: 0.7591\n",
      "Epoch 7/40\n",
      "50000/50000 [==============================] - 642s 13ms/step - loss: 0.6880 - acc: 0.7567 - val_loss: 0.6571 - val_acc: 0.7676\n",
      "Epoch 8/40\n",
      "50000/50000 [==============================] - 640s 13ms/step - loss: 0.6589 - acc: 0.7683 - val_loss: 0.6682 - val_acc: 0.7691\n",
      "Epoch 9/40\n",
      "50000/50000 [==============================] - 627s 13ms/step - loss: 0.6103 - acc: 0.7831 - val_loss: 0.6322 - val_acc: 0.7827\n",
      "Epoch 10/40\n",
      "50000/50000 [==============================] - 542s 11ms/step - loss: 0.5877 - acc: 0.7929 - val_loss: 0.6064 - val_acc: 0.7916\n",
      "Epoch 11/40\n",
      "50000/50000 [==============================] - 806s 16ms/step - loss: 0.5625 - acc: 0.8001 - val_loss: 0.6050 - val_acc: 0.7870\n",
      "Epoch 12/40\n",
      "50000/50000 [==============================] - 539s 11ms/step - loss: 0.5341 - acc: 0.8116 - val_loss: 0.5884 - val_acc: 0.7958\n",
      "Epoch 13/40\n",
      "50000/50000 [==============================] - 3343s 67ms/step - loss: 0.5161 - acc: 0.8174 - val_loss: 0.5768 - val_acc: 0.7961\n",
      "Epoch 14/40\n",
      "50000/50000 [==============================] - 465s 9ms/step - loss: 0.4934 - acc: 0.8248 - val_loss: 0.5666 - val_acc: 0.8063\n",
      "Epoch 15/40\n",
      "50000/50000 [==============================] - 576s 12ms/step - loss: 0.4739 - acc: 0.8307 - val_loss: 0.5872 - val_acc: 0.7991\n",
      "Epoch 16/40\n",
      "50000/50000 [==============================] - 619s 12ms/step - loss: 0.4620 - acc: 0.8380 - val_loss: 0.5702 - val_acc: 0.8062\n",
      "Epoch 17/40\n",
      "50000/50000 [==============================] - 648s 13ms/step - loss: 0.4475 - acc: 0.8408 - val_loss: 0.5601 - val_acc: 0.8093\n",
      "Epoch 18/40\n",
      "50000/50000 [==============================] - 717s 14ms/step - loss: 0.4299 - acc: 0.8469 - val_loss: 0.5684 - val_acc: 0.8082\n",
      "Epoch 19/40\n",
      "50000/50000 [==============================] - 669s 13ms/step - loss: 0.4181 - acc: 0.8510 - val_loss: 0.5503 - val_acc: 0.8115\n",
      "Epoch 20/40\n",
      "50000/50000 [==============================] - 716s 14ms/step - loss: 0.4012 - acc: 0.8589 - val_loss: 0.5397 - val_acc: 0.8162\n",
      "Epoch 21/40\n",
      "50000/50000 [==============================] - 756s 15ms/step - loss: 0.3862 - acc: 0.8628 - val_loss: 0.5690 - val_acc: 0.8079\n",
      "Epoch 22/40\n",
      "50000/50000 [==============================] - 668s 13ms/step - loss: 0.3827 - acc: 0.8649 - val_loss: 0.5618 - val_acc: 0.8134\n",
      "Epoch 23/40\n",
      "50000/50000 [==============================] - 659s 13ms/step - loss: 0.3735 - acc: 0.8684 - val_loss: 0.5510 - val_acc: 0.8164\n",
      "Epoch 24/40\n",
      "50000/50000 [==============================] - 649s 13ms/step - loss: 0.3583 - acc: 0.8720 - val_loss: 0.5397 - val_acc: 0.8187\n",
      "Epoch 25/40\n",
      "50000/50000 [==============================] - 38922s 778ms/step - loss: 0.3483 - acc: 0.8753 - val_loss: 0.5798 - val_acc: 0.8103\n",
      "Epoch 26/40\n",
      "50000/50000 [==============================] - 536s 11ms/step - loss: 0.3384 - acc: 0.8794 - val_loss: 0.5618 - val_acc: 0.8152\n",
      "Epoch 27/40\n",
      "50000/50000 [==============================] - 620s 12ms/step - loss: 0.3284 - acc: 0.8826 - val_loss: 0.5332 - val_acc: 0.8199\n",
      "Epoch 28/40\n",
      "50000/50000 [==============================] - 588s 12ms/step - loss: 0.3253 - acc: 0.8842 - val_loss: 0.5438 - val_acc: 0.8205\n",
      "Epoch 29/40\n",
      "50000/50000 [==============================] - 3357s 67ms/step - loss: 0.3198 - acc: 0.8869 - val_loss: 0.5564 - val_acc: 0.8175\n",
      "Epoch 30/40\n",
      "50000/50000 [==============================] - 573s 11ms/step - loss: 0.3121 - acc: 0.8873 - val_loss: 0.5442 - val_acc: 0.8202\n",
      "Epoch 31/40\n",
      "50000/50000 [==============================] - 709s 14ms/step - loss: 0.3063 - acc: 0.8911 - val_loss: 0.5517 - val_acc: 0.8213\n",
      "Epoch 32/40\n",
      "50000/50000 [==============================] - 650s 13ms/step - loss: 0.2977 - acc: 0.8924 - val_loss: 0.5487 - val_acc: 0.8228\n",
      "Epoch 33/40\n",
      "50000/50000 [==============================] - 622s 12ms/step - loss: 0.2948 - acc: 0.8937 - val_loss: 0.5489 - val_acc: 0.8231\n",
      "Epoch 34/40\n",
      "50000/50000 [==============================] - 641s 13ms/step - loss: 0.2828 - acc: 0.8988 - val_loss: 0.5419 - val_acc: 0.8224\n",
      "Epoch 35/40\n",
      "50000/50000 [==============================] - 572s 11ms/step - loss: 0.2785 - acc: 0.8991 - val_loss: 0.5593 - val_acc: 0.8222\n",
      "Epoch 36/40\n",
      "50000/50000 [==============================] - 5492s 110ms/step - loss: 0.2811 - acc: 0.8998 - val_loss: 0.5542 - val_acc: 0.8243\n",
      "Epoch 37/40\n",
      "50000/50000 [==============================] - 508s 10ms/step - loss: 0.2714 - acc: 0.9030 - val_loss: 0.5593 - val_acc: 0.8228\n",
      "Epoch 38/40\n",
      "50000/50000 [==============================] - 534s 11ms/step - loss: 0.2634 - acc: 0.9051 - val_loss: 0.5385 - val_acc: 0.8242\n",
      "Epoch 39/40\n",
      "50000/50000 [==============================] - 500s 10ms/step - loss: 0.2580 - acc: 0.9077 - val_loss: 0.5467 - val_acc: 0.8267\n",
      "Epoch 40/40\n",
      "50000/50000 [==============================] - 491s 10ms/step - loss: 0.2563 - acc: 0.9079 - val_loss: 0.5394 - val_acc: 0.8270\n"
     ]
    }
   ],
   "source": [
    "\n",
    "# train the network\n",
    "print(\"[INFO] training network...\")\n",
    "H = model.fit(trainX, trainY, validation_data=(testX, testY),\n",
    "\tbatch_size=64, epochs=40, verbose=1)"
   ]
  },
  {
   "cell_type": "markdown",
   "metadata": {},
   "source": [
    "\n",
    "# evaluate the network"
   ]
  },
  {
   "cell_type": "code",
   "execution_count": 7,
   "metadata": {},
   "outputs": [
    {
     "name": "stdout",
     "output_type": "stream",
     "text": [
      "[INFO] evaluating network...\n",
      "              precision    recall  f1-score   support\n",
      "\n",
      "    airplane       0.86      0.83      0.84      1000\n",
      "  automobile       0.92      0.90      0.91      1000\n",
      "        bird       0.79      0.71      0.75      1000\n",
      "         cat       0.69      0.68      0.68      1000\n",
      "        deer       0.79      0.81      0.80      1000\n",
      "         dog       0.74      0.77      0.76      1000\n",
      "        frog       0.85      0.88      0.87      1000\n",
      "       horse       0.86      0.87      0.86      1000\n",
      "        ship       0.91      0.91      0.91      1000\n",
      "       truck       0.86      0.91      0.89      1000\n",
      "\n",
      "    accuracy                           0.83     10000\n",
      "   macro avg       0.83      0.83      0.83     10000\n",
      "weighted avg       0.83      0.83      0.83     10000\n",
      "\n"
     ]
    }
   ],
   "source": [
    "\n",
    "# evaluate the network\n",
    "print(\"[INFO] evaluating network...\")\n",
    "predictions = model.predict(testX, batch_size=64)\n",
    "print(classification_report(testY.argmax(axis=1),\n",
    "\tpredictions.argmax(axis=1), target_names=labelNames))"
   ]
  },
  {
   "cell_type": "markdown",
   "metadata": {},
   "source": [
    "### Partition the data into training and testing splits using 75% of the data for training and the remaining 25% for testing"
   ]
  },
  {
   "cell_type": "code",
   "execution_count": 8,
   "metadata": {},
   "outputs": [
    {
     "ename": "NameError",
     "evalue": "name 'args' is not defined",
     "output_type": "error",
     "traceback": [
      "\u001b[1;31m---------------------------------------------------------------------------\u001b[0m",
      "\u001b[1;31mNameError\u001b[0m                                 Traceback (most recent call last)",
      "\u001b[1;32m<ipython-input-8-7f3e2d9fb15f>\u001b[0m in \u001b[0;36m<module>\u001b[1;34m\u001b[0m\n\u001b[0;32m     10\u001b[0m \u001b[0mplt\u001b[0m\u001b[1;33m.\u001b[0m\u001b[0mylabel\u001b[0m\u001b[1;33m(\u001b[0m\u001b[1;34m\"Loss/Accuracy\"\u001b[0m\u001b[1;33m)\u001b[0m\u001b[1;33m\u001b[0m\u001b[1;33m\u001b[0m\u001b[0m\n\u001b[0;32m     11\u001b[0m \u001b[0mplt\u001b[0m\u001b[1;33m.\u001b[0m\u001b[0mlegend\u001b[0m\u001b[1;33m(\u001b[0m\u001b[1;33m)\u001b[0m\u001b[1;33m\u001b[0m\u001b[1;33m\u001b[0m\u001b[0m\n\u001b[1;32m---> 12\u001b[1;33m \u001b[0mplt\u001b[0m\u001b[1;33m.\u001b[0m\u001b[0msavefig\u001b[0m\u001b[1;33m(\u001b[0m\u001b[0margs\u001b[0m\u001b[1;33m[\u001b[0m\u001b[1;34m\"output\"\u001b[0m\u001b[1;33m]\u001b[0m\u001b[1;33m)\u001b[0m\u001b[1;33m\u001b[0m\u001b[1;33m\u001b[0m\u001b[0m\n\u001b[0m",
      "\u001b[1;31mNameError\u001b[0m: name 'args' is not defined"
     ]
    }
   ],
   "source": [
    "\n",
    "# plot the training loss and accuracy\n",
    "plt.style.use(\"ggplot\")\n",
    "plt.figure()\n",
    "plt.plot(np.arange(0, 40), H.history[\"loss\"], label=\"train_loss\")\n",
    "plt.plot(np.arange(0, 40), H.history[\"val_loss\"], label=\"val_loss\")\n",
    "plt.plot(np.arange(0, 40), H.history[\"acc\"], label=\"train_acc\")\n",
    "plt.plot(np.arange(0, 40), H.history[\"val_acc\"], label=\"val_acc\")\n",
    "plt.title(\"Training Loss and Accuracy on CIFAR-10\")\n",
    "plt.xlabel(\"Epoch #\")\n",
    "plt.ylabel(\"Loss/Accuracy\")\n",
    "plt.legend()\n",
    "plt.savefig(args[\"output\"])"
   ]
  },
  {
   "cell_type": "markdown",
   "metadata": {},
   "source": []
  },
  {
   "cell_type": "code",
   "execution_count": null,
   "metadata": {},
   "outputs": [],
   "source": []
  },
  {
   "cell_type": "markdown",
   "metadata": {},
   "source": []
  },
  {
   "cell_type": "code",
   "execution_count": null,
   "metadata": {},
   "outputs": [],
   "source": []
  },
  {
   "cell_type": "markdown",
   "metadata": {},
   "source": []
  },
  {
   "cell_type": "code",
   "execution_count": null,
   "metadata": {},
   "outputs": [],
   "source": []
  },
  {
   "cell_type": "markdown",
   "metadata": {},
   "source": [
    "### evaluate the network"
   ]
  },
  {
   "cell_type": "code",
   "execution_count": null,
   "metadata": {},
   "outputs": [],
   "source": []
  },
  {
   "cell_type": "markdown",
   "metadata": {},
   "source": []
  },
  {
   "cell_type": "code",
   "execution_count": null,
   "metadata": {},
   "outputs": [],
   "source": []
  },
  {
   "cell_type": "code",
   "execution_count": null,
   "metadata": {},
   "outputs": [],
   "source": []
  }
 ],
 "metadata": {
  "kernelspec": {
   "display_name": "Python 3",
   "language": "python",
   "name": "python3"
  },
  "language_info": {
   "codemirror_mode": {
    "name": "ipython",
    "version": 3
   },
   "file_extension": ".py",
   "mimetype": "text/x-python",
   "name": "python",
   "nbconvert_exporter": "python",
   "pygments_lexer": "ipython3",
   "version": "3.7.3"
  }
 },
 "nbformat": 4,
 "nbformat_minor": 2
}
